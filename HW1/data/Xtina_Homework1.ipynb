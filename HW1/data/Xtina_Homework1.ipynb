{
 "cells": [
  {
   "cell_type": "code",
   "execution_count": 1,
   "metadata": {},
   "outputs": [],
   "source": [
    "import numpy as np\n",
    "import pandas as pd\n",
    "import spacy\n",
    "import string\n",
    "import pickle as pkl\n",
    "from sklearn import preprocessing\n",
    "import os.path\n",
    "from operator import add"
   ]
  },
  {
   "cell_type": "code",
   "execution_count": 2,
   "metadata": {},
   "outputs": [],
   "source": [
    "#load in the data\n",
    "train_df = pd.read_csv('snli_train.tsv', sep=\"\\t\")\n",
    "val_df = pd.read_csv('snli_val.tsv',sep=\"\\t\")\n",
    "\n",
    "#get data & convert sentences to lists\n",
    "train_sentence1=train_df['sentence1'].values.tolist()\n",
    "train_sentence2=train_df['sentence2'].values.tolist()\n",
    "val_sentence1=val_df['sentence1'].values.tolist()\n",
    "val_sentence2=val_df['sentence2'].values.tolist()\n",
    "\n",
    "#convert the text labels to numeric\n",
    "le = preprocessing.LabelEncoder()\n",
    "le.fit(train_df['label'])\n",
    "train_targets=le.transform(train_df['label']).tolist()\n",
    "val_targets=le.transform(val_df['label']).tolist()"
   ]
  },
  {
   "cell_type": "code",
   "execution_count": 3,
   "metadata": {},
   "outputs": [],
   "source": [
    "# Load English tokenizer, tagger, parser, NER and word vectors\n",
    "tokenizer = spacy.load('en_core_web_sm')\n",
    "punctuations = string.punctuation\n",
    "\n",
    "# lowercase and remove punctuation\n",
    "def tokenize(sent):\n",
    "    tokens = tokenizer(sent)\n",
    "    return [token.text.lower() for token in tokens if (token.text not in punctuations)]"
   ]
  },
  {
   "cell_type": "code",
   "execution_count": 4,
   "metadata": {},
   "outputs": [],
   "source": [
    "# This is the code cell that tokenizes train/val/test datasets\n",
    "def tokenize_dataset(dataset):\n",
    "    token_dataset = []\n",
    "    # we are keeping track of all tokens in dataset \n",
    "    # in order to create vocabulary later\n",
    "    all_tokens = []\n",
    "    \n",
    "    for sample in dataset:\n",
    "        tokens = tokenize(sample)\n",
    "        token_dataset.append(tokens)\n",
    "        all_tokens += tokens\n",
    "\n",
    "    return token_dataset, all_tokens"
   ]
  },
  {
   "cell_type": "code",
   "execution_count": 5,
   "metadata": {},
   "outputs": [],
   "source": [
    "#train set tokens\n",
    "if not os.path.exists('train_all_combined_sentence_tokens.p'):\n",
    "    print(\"Tokenizing train data\")\n",
    "    train_sentence1_tokens, train_all_sentence1_tokens = tokenize_dataset(train_sentence1)\n",
    "    train_sentence2_tokens, train_all_sentence2_tokens = tokenize_dataset(train_sentence2)\n",
    "    train_all_combined_sentence_tokens = train_all_sentence1_tokens + train_all_sentence2_tokens\n",
    "    pkl.dump(train_all_combined_sentence_tokens, open(\"train_all_combined_sentence_tokens.p\", \"wb\"))"
   ]
  },
  {
   "cell_type": "code",
   "execution_count": 6,
   "metadata": {},
   "outputs": [],
   "source": [
    "#if pickle files do not exist, collect them.  Otherwise, this if block will not run\n",
    "if not os.path.exists('train_sentence1_tokens.p'):\n",
    "    print (\"Tokenizing train data\")\n",
    "    train_sentence1_tokens, train_all_sentence1_tokens = tokenize_dataset(train_sentence1)\n",
    "    train_sentence2_tokens, train_all_sentence2_tokens = tokenize_dataset(train_sentence2)\n",
    "    pkl.dump(train_sentence1_tokens, open(\"train_sentence1_tokens.p\", \"wb\"))\n",
    "    pkl.dump(train_sentence2_tokens, open(\"train_sentence2_tokens.p\", \"wb\"))\n",
    "    #pkl.dump(train_all_sentence1_tokens, open(\"train_all_sentence1_tokens.p\", \"wb\"))\n",
    "    #pkl.dump(train_all_sentence2_tokens, open(\"train_all_sentence2_tokens.p\", \"wb\"))1\n",
    "\n",
    "    #combine tokens from both sentences to create a shared dictionary\n",
    "    train_all_combined_sentence_tokens = train_all_sentence1_tokens + train_all_sentence2_tokens\n",
    "    pkl.dump(train_all_combined_sentence_tokens, open(\"train_all_combined_sentence_tokens.p\", \"wb\"))\n",
    "\n",
    "    #val set tokens\n",
    "    print (\"Tokenizing val data\")\n",
    "    val_sentence1_tokens, _ = tokenize_dataset(val_sentence1)\n",
    "    val_sentence2_tokens, _ = tokenize_dataset(val_sentence2)\n",
    "    pkl.dump(val_sentence1_tokens, open(\"val_sentence1_tokens.p\", \"wb\"))\n",
    "    pkl.dump(val_sentence2_tokens, open(\"val_sentence2_tokens.p\", \"wb\"))"
   ]
  },
  {
   "cell_type": "code",
   "execution_count": 7,
   "metadata": {},
   "outputs": [],
   "source": [
    "#If you have previously run the previous cell, run this cell instead to load preprocessed datasets\n",
    "train_sentence1_tokens = pkl.load(open(\"train_sentence1_tokens.p\", \"rb\"))\n",
    "train_sentence2_tokens = pkl.load(open(\"train_sentence2_tokens.p\", \"rb\"))\n",
    "train_all_combined_sentence_tokens = pkl.load(open(\"train_all_combined_sentence_tokens.p\", \"rb\"))\n",
    "train_all_sentence1_tokens = pkl.load(open(\"train_all_sentence1_tokens.p\", \"rb\"))\n",
    "train_all_sentence2_tokens = pkl.load(open(\"train_all_sentence2_tokens.p\", \"rb\"))\n",
    "val_sentence1_tokens = pkl.load(open(\"val_sentence1_tokens.p\", \"rb\"))\n",
    "val_sentence2_tokens = pkl.load(open(\"val_sentence2_tokens.p\", \"rb\"))"
   ]
  },
  {
   "cell_type": "code",
   "execution_count": 8,
   "metadata": {},
   "outputs": [
    {
     "name": "stdout",
     "output_type": "stream",
     "text": [
      "Train sentence1 dataset size is 100000\n",
      "Train sentence2 dataset size is 100000\n",
      "Val sentence1 dataset size is 1000\n",
      "Val sentence2 dataset size is 1000\n",
      "\n",
      "Total number of tokens in sentence1 train dataset is 1294135\n",
      "Total number of tokens in sentence2 train dataset is 743372\n",
      "Total number of tokens in combined sent1 & sent2 train dataset is 2037507\n",
      "\n",
      "Total number of *unique* tokens in sentence1 train dataset is 14131\n",
      "Total number of *unique* tokens in sentence2 train dataset is 15225\n",
      "Total number of *unique* tokens in sent1 & sent2 train dataset is 19642\n"
     ]
    }
   ],
   "source": [
    "#print information about the token datasets\n",
    "# double checking\n",
    "print (\"Train sentence1 dataset size is {}\".format(len(train_sentence1_tokens)))\n",
    "print (\"Train sentence2 dataset size is {}\".format(len(train_sentence2_tokens)))\n",
    "print (\"Val sentence1 dataset size is {}\".format(len(val_sentence1_tokens)))\n",
    "print (\"Val sentence2 dataset size is {}\".format(len(val_sentence2_tokens)))\n",
    "\n",
    "print (\"\\nTotal number of tokens in sentence1 train dataset is {}\".format(len(train_all_sentence1_tokens)))\n",
    "print (\"Total number of tokens in sentence2 train dataset is {}\".format(len(train_all_sentence2_tokens)))\n",
    "print (\"Total number of tokens in combined sent1 & sent2 train dataset is {}\".format(len(train_all_combined_sentence_tokens)))\n",
    "\n",
    "print (\"\\nTotal number of *unique* tokens in sentence1 train dataset is {}\".format(len(set(train_all_sentence1_tokens))))\n",
    "print (\"Total number of *unique* tokens in sentence2 train dataset is {}\".format(len(set(train_all_sentence2_tokens))))\n",
    "print (\"Total number of *unique* tokens in sent1 & sent2 train dataset is {}\".format(len(set(train_all_combined_sentence_tokens))))\n"
   ]
  },
  {
   "cell_type": "code",
   "execution_count": 191,
   "metadata": {},
   "outputs": [],
   "source": [
    "#build vocabularies for sentence1 and sentence2\n",
    "from collections import Counter\n",
    "\n",
    "#max_vocab_size = 10000\n",
    "# save index 0 for unk and 1 for pad\n",
    "PAD_IDX = 0\n",
    "UNK_IDX = 1\n",
    "\n",
    "def build_vocab(all_tokens, max_vocab_size):\n",
    "    # Returns:\n",
    "    # id2token: list of tokens, where id2token[i] returns token that corresponds to token i\n",
    "    # token2id: dictionary where keys represent tokens and corresponding values represent indices\n",
    "    token_counter = Counter(all_tokens)\n",
    "    vocab, count = zip(*token_counter.most_common(max_vocab_size))\n",
    "    id2token = list(vocab)\n",
    "    token2id = dict(zip(vocab, range(2,2+len(vocab)))) \n",
    "    id2token = ['<pad>', '<unk>'] + id2token\n",
    "    token2id['<pad>'] = PAD_IDX \n",
    "    token2id['<unk>'] = UNK_IDX\n",
    "    return token2id, id2token\n",
    "\n",
    "#try different vocab sizes\n",
    "vocab1=10000\n",
    "vocab2=15000\n",
    "vocab3=19000\n",
    "token2id_combined_sent, id2token_combined_sent = build_vocab(train_all_combined_sentence_tokens,vocab1)\n",
    "token2id_combined_sent_voc2, id2token_combined_sentvoc2 = build_vocab(train_all_combined_sentence_tokens,vocab2)\n",
    "token2id_combined_sent_voc3, id2token_combined_sentvoc3 = build_vocab(train_all_combined_sentence_tokens,vocab3)"
   ]
  },
  {
   "cell_type": "code",
   "execution_count": 192,
   "metadata": {},
   "outputs": [
    {
     "name": "stdout",
     "output_type": "stream",
     "text": [
      "Token id 4062 ; token rainstorm\n",
      "Token rainstorm; token id 4062\n"
     ]
    }
   ],
   "source": [
    "# Lets check the dictionary by loading random token from it\n",
    "import random \n",
    "\n",
    "random_token_id = random.randint(0, len(id2token_combined_sent)-1)\n",
    "random_token = id2token_combined_sent[random_token_id]\n",
    "\n",
    "print (\"Token id {} ; token {}\".format(random_token_id, id2token_combined_sent[random_token_id]))\n",
    "print (\"Token {}; token id {}\".format(random_token, token2id_combined_sent[random_token]))"
   ]
  },
  {
   "cell_type": "code",
   "execution_count": 193,
   "metadata": {},
   "outputs": [
    {
     "name": "stdout",
     "output_type": "stream",
     "text": [
      "Train sentence1 dataset size is 100000\n",
      "Train sentence2 dataset size is 100000\n",
      "Val sentence1 dataset size is 1000\n",
      "Val sentence2 dataset size is 1000\n"
     ]
    }
   ],
   "source": [
    "# convert token to id in the dataset.  After running this cell we will have converted the word tokens to indices\n",
    "def token2index_dataset(tokens_data,token2id):\n",
    "    indices_data = []\n",
    "    for tokens in tokens_data:\n",
    "        index_list = [token2id[token] if token in token2id else UNK_IDX for token in tokens]\n",
    "        indices_data.append(index_list)\n",
    "    return indices_data\n",
    "\n",
    "#create train & val for vocab1 size\n",
    "train_sentence1_data_indices = token2index_dataset(train_sentence1_tokens,token2id_combined_sent)\n",
    "train_sentence2_data_indices = token2index_dataset(train_sentence2_tokens,token2id_combined_sent)\n",
    "val_sentence1_data_indices = token2index_dataset(val_sentence1_tokens,token2id_combined_sent)\n",
    "val_sentence2_data_indices = token2index_dataset(val_sentence2_tokens,token2id_combined_sent)\n",
    "\n",
    "#create train & val for vocab2 size\n",
    "train_sentence1_data_indices_voc2 = token2index_dataset(train_sentence1_tokens,token2id_combined_sent_voc2)\n",
    "train_sentence2_data_indices_voc2 = token2index_dataset(train_sentence2_tokens,token2id_combined_sent_voc2)\n",
    "val_sentence1_data_indices_voc2 = token2index_dataset(val_sentence1_tokens,token2id_combined_sent_voc2)\n",
    "val_sentence2_data_indices_voc2 = token2index_dataset(val_sentence2_tokens,token2id_combined_sent_voc2)\n",
    "\n",
    "#create train & val for vocab3 size\n",
    "train_sentence1_data_indices_voc3 = token2index_dataset(train_sentence1_tokens,token2id_combined_sent_voc3)\n",
    "train_sentence2_data_indices_voc3 = token2index_dataset(train_sentence2_tokens,token2id_combined_sent_voc3)\n",
    "val_sentence1_data_indices_voc3 = token2index_dataset(val_sentence1_tokens,token2id_combined_sent_voc3)\n",
    "val_sentence2_data_indices_voc3 = token2index_dataset(val_sentence2_tokens,token2id_combined_sent_voc3)\n",
    "\n",
    "# double checking\n",
    "print (\"Train sentence1 dataset size is {}\".format(len(train_sentence1_data_indices)))\n",
    "print (\"Train sentence2 dataset size is {}\".format(len(train_sentence2_data_indices)))\n",
    "print (\"Val sentence1 dataset size is {}\".format(len(val_sentence1_data_indices)))\n",
    "print (\"Val sentence2 dataset size is {}\".format(len(val_sentence2_data_indices)))"
   ]
  },
  {
   "cell_type": "code",
   "execution_count": 194,
   "metadata": {},
   "outputs": [
    {
     "name": "stdout",
     "output_type": "stream",
     "text": [
      "['a', 'soccer', 'player', 'running', 'on', 'the', 'field']\n",
      "[2, 129, 111, 64, 7, 3, 89]\n",
      "['the', 'soccer', 'player', 'is', 'running']\n",
      "[3, 129, 111, 5, 64]\n"
     ]
    }
   ],
   "source": [
    "#visualize a random sentence1 and sentence2 paired training example\n",
    "rand_training_example = random.randint(0, len(train_sentence1) - 1)\n",
    "print (train_sentence1_tokens[rand_training_example])\n",
    "print(train_sentence1_data_indices[rand_training_example])\n",
    "\n",
    "print (train_sentence2_tokens[rand_training_example])\n",
    "print(train_sentence2_data_indices[rand_training_example])"
   ]
  },
  {
   "cell_type": "code",
   "execution_count": 195,
   "metadata": {},
   "outputs": [
    {
     "name": "stdout",
     "output_type": "stream",
     "text": [
      "sentence1 average is: 12.94135, std dev is: 5.755700667816214, max is: 78, min is: 2\n",
      "sentence2 average is: 7.43372, std dev is: 3.0907033118046123, max is: 38, min is: 1\n"
     ]
    }
   ],
   "source": [
    "#Check average, max, min sentence lengths to determine word padding\n",
    "total_sent1_len=0\n",
    "total_sent2_len=0\n",
    "sent1_lens=[]\n",
    "sent2_lens=[]\n",
    "for i in range(0,len(train_sentence1_tokens)):\n",
    "    total_sent1_len+=len(train_sentence1_tokens[i])\n",
    "    total_sent2_len+=len(train_sentence2_tokens[i])\n",
    "    sent1_lens.append(len(train_sentence1_tokens[i]))\n",
    "    sent2_lens.append(len(train_sentence2_tokens[i]))\n",
    "\n",
    "avg1=total_sent1_len/len(train_sentence1)\n",
    "avg2=total_sent2_len/len(train_sentence2)\n",
    "print(\"sentence1 average is: \"+str(avg1)+\", std dev is: \"+str(np.std(sent1_lens))+\", max is: \"+str(max(sent1_lens))+\", min is: \"+str(min(sent1_lens)))\n",
    "print(\"sentence2 average is: \"+str(avg2)+\", std dev is: \"+str(np.std(sent2_lens))+\", max is: \"+str(max(sent2_lens))+\", min is: \"+str(min(sent2_lens)))\n"
   ]
  },
  {
   "cell_type": "code",
   "execution_count": 196,
   "metadata": {},
   "outputs": [],
   "source": [
    "import numpy as np\n",
    "import torch\n",
    "from torch.utils.data import Dataset\n",
    "\n",
    "class NewsGroupDataset(Dataset):\n",
    "    \"\"\"\n",
    "    Class that represents a train/validation/test dataset that's readable for PyTorch\n",
    "    Note that this class inherits torch.utils.data.Dataset\n",
    "    \"\"\"\n",
    "    \n",
    "    def __init__(self, data_list1, data_list2, target_list, MAX_SENTENCE_LENGTH):\n",
    "        \"\"\"\n",
    "        @param data_list: list of newsgroup tokens \n",
    "        @param target_list: list of newsgroup targets \n",
    "\n",
    "        \"\"\"\n",
    "        self.data_list1 = data_list1\n",
    "        self.data_list2 = data_list2\n",
    "        self.MAX_SENTENCE_LENGTH=MAX_SENTENCE_LENGTH\n",
    "        self.target_list = target_list\n",
    "        assert (len(self.data_list1) == len(self.target_list) == len(self.data_list2))\n",
    "\n",
    "    def __len__(self):\n",
    "        return len(self.data_list1)\n",
    "        \n",
    "    def __getitem__(self, key):\n",
    "        \"\"\"\n",
    "        Triggered when you call dataset[i]\n",
    "        \"\"\"\n",
    "        token_idx1 = self.data_list1[key][:self.MAX_SENTENCE_LENGTH]\n",
    "        token_idx2 = self.data_list2[key][:self.MAX_SENTENCE_LENGTH]\n",
    "        label = self.target_list[key]\n",
    "        \n",
    "        return [token_idx1, token_idx2, len(token_idx1), len(token_idx2), label]\n",
    "    "
   ]
  },
  {
   "cell_type": "code",
   "execution_count": 197,
   "metadata": {},
   "outputs": [],
   "source": [
    "train_dataset = NewsGroupDataset(train_sentence1_data_indices,train_sentence2_data_indices, train_targets, 35)\n",
    "val_dataset = NewsGroupDataset(val_sentence1_data_indices, val_sentence2_data_indices, val_targets, 35)\n",
    "\n",
    "train_dataset_voc2 = NewsGroupDataset(train_sentence1_data_indices_voc2,train_sentence2_data_indices_voc2, train_targets, 35)\n",
    "val_dataset_voc2 = NewsGroupDataset(val_sentence1_data_indices_voc2, val_sentence2_data_indices_voc2, val_targets, 35)\n",
    "\n",
    "train_dataset_voc3 = NewsGroupDataset(train_sentence1_data_indices_voc3,train_sentence2_data_indices_voc3, train_targets, 35)\n",
    "val_dataset_voc3 = NewsGroupDataset(val_sentence1_data_indices_voc3, val_sentence2_data_indices_voc3, val_targets, 35)\n"
   ]
  },
  {
   "cell_type": "code",
   "execution_count": 198,
   "metadata": {},
   "outputs": [],
   "source": [
    "MAX_SENTENCE_LENGTH=35\n",
    "\n",
    "def newsgroup_collate_func(batch):\n",
    "    \"\"\"\n",
    "    Customized function for DataLoader that dynamically pads the batch so that all \n",
    "    data have the same length\n",
    "    \"\"\"\n",
    "    data_list1 = []\n",
    "    data_list2 = []\n",
    "    label_list = []\n",
    "    length_list1 = []\n",
    "    length_list2 = []\n",
    "    #print(\"collate batch: \", batch[0][0])\n",
    "    #batch[0][0] = batch[0][0][:MAX_SENTENCE_LENGTH]\n",
    "    for datum in batch:\n",
    "        label_list.append(datum[4])\n",
    "        length_list1.append(datum[2])\n",
    "        length_list2.append(datum[3])\n",
    "    # padding\n",
    "    for datum in batch:\n",
    "        padded_vec1 = np.pad(np.array(datum[0]), \n",
    "                                pad_width=((0,MAX_SENTENCE_LENGTH-datum[2])), \n",
    "                                mode=\"constant\", constant_values=0)\n",
    "        data_list1.append(padded_vec1)\n",
    "        \n",
    "    for datum in batch:\n",
    "        \n",
    "        padded_vec2 = np.pad(np.array(datum[1]), \n",
    "                                pad_width=((0,MAX_SENTENCE_LENGTH-datum[3])), \n",
    "                                mode=\"constant\", constant_values=0)\n",
    "        data_list2.append(padded_vec2)\n",
    "        \n",
    "    return [torch.from_numpy(np.array(data_list1)), torch.from_numpy(np.array(data_list2)), torch.LongTensor(length_list1), torch.LongTensor(length_list2), torch.LongTensor(label_list)]\n",
    "\n"
   ]
  },
  {
   "cell_type": "code",
   "execution_count": 199,
   "metadata": {},
   "outputs": [],
   "source": [
    "BATCH_SIZE = 32\n",
    "\n",
    "train_loader = torch.utils.data.DataLoader(dataset=train_dataset, \n",
    "                                           batch_size=BATCH_SIZE,\n",
    "                                           collate_fn=newsgroup_collate_func,\n",
    "                                           shuffle=True)\n",
    "\n",
    "val_loader = torch.utils.data.DataLoader(dataset=val_dataset, \n",
    "                                           batch_size=BATCH_SIZE,\n",
    "                                           collate_fn=newsgroup_collate_func,\n",
    "                                           shuffle=True)\n",
    "\n",
    "train_loader_voc2 = torch.utils.data.DataLoader(dataset=train_dataset_voc2, \n",
    "                                           batch_size=BATCH_SIZE,\n",
    "                                           collate_fn=newsgroup_collate_func,\n",
    "                                           shuffle=True)\n",
    "\n",
    "val_loader_voc2 = torch.utils.data.DataLoader(dataset=val_dataset_voc2, \n",
    "                                           batch_size=BATCH_SIZE,\n",
    "                                           collate_fn=newsgroup_collate_func,\n",
    "                                           shuffle=True)\n",
    "\n",
    "train_loader_voc3 = torch.utils.data.DataLoader(dataset=train_dataset_voc3, \n",
    "                                           batch_size=BATCH_SIZE,\n",
    "                                           collate_fn=newsgroup_collate_func,\n",
    "                                           shuffle=True)\n",
    "\n",
    "val_loader_voc3 = torch.utils.data.DataLoader(dataset=val_dataset_voc3, \n",
    "                                           batch_size=BATCH_SIZE,\n",
    "                                           collate_fn=newsgroup_collate_func,\n",
    "                                           shuffle=True)\n",
    "\n",
    "dataloader_list=[[train_loader,val_loader,vocab1+2],[train_loader_voc2,val_loader_voc2,vocab2+2],[train_loader_voc3,val_loader_voc3,vocab3+2]]\n",
    "\n"
   ]
  },
  {
   "cell_type": "code",
   "execution_count": 200,
   "metadata": {},
   "outputs": [
    {
     "name": "stdout",
     "output_type": "stream",
     "text": [
      "tensor([[   2,    6,   17,  ...,    0,    0,    0],\n",
      "        [   2,  163,  272,  ...,    0,    0,    0],\n",
      "        [   2,   12,    4,  ...,    0,    0,    0],\n",
      "        ...,\n",
      "        [  18,  125,   12,  ...,    0,    0,    0],\n",
      "        [   6,  852,  104,  ...,    0,    0,    0],\n",
      "        [  13, 1604,  184,  ...,    0,    0,    0]])\n",
      "torch.Size([32, 35])\n",
      "tensor([[   2,    6,    5,  ...,    0,    0,    0],\n",
      "        [   2,    6, 1582,  ...,    0,    0,    0],\n",
      "        [  49,    5,   12,  ...,    0,    0,    0],\n",
      "        ...,\n",
      "        [   2,   12,    4,  ...,    0,    0,    0],\n",
      "        [   2,   12,  283,  ...,    0,    0,    0],\n",
      "        [  13,  118,   43,  ...,    0,    0,    0]])\n",
      "torch.Size([32, 35])\n",
      "tensor([16,  9,  8, 10, 17,  9, 11, 12,  8,  9, 12, 14, 11, 24, 17, 17, 18, 12,\n",
      "        18, 11,  7, 18, 11, 17, 15, 20,  6, 12,  7, 20,  5, 12])\n",
      "torch.Size([32])\n",
      "tensor([2, 2, 1, 1, 1, 1, 2, 1, 2, 1, 2, 2, 1, 2, 2, 1, 2, 1, 2, 1, 2, 2, 1, 0,\n",
      "        1, 0, 1, 2, 0, 0, 0, 0])\n",
      "torch.Size([32])\n"
     ]
    }
   ],
   "source": [
    "#sent1 example\n",
    "for i,(data1, data2, lengths1, lengths2, labels) in enumerate(train_loader):\n",
    "    print(data1)\n",
    "    print(data1.shape)\n",
    "    print(data2)\n",
    "    print(data2.shape)\n",
    "    print(lengths1)\n",
    "    print(lengths1.shape)\n",
    "    print(labels)\n",
    "    print(labels.shape)\n",
    "    break"
   ]
  },
  {
   "cell_type": "markdown",
   "metadata": {},
   "source": [
    "### Bag-of-Words model in PyTorch"
   ]
  },
  {
   "cell_type": "markdown",
   "metadata": {},
   "source": [
    "Next, we will implement a Bag of Words in PyTorch -- as an `nn.Module`.\n",
    "\n",
    "A `nn.Module` can really be any function, but it is often used to implement layers, functions and models. Note that you can also nest modules.\n",
    "\n",
    "Importantly, modules need to have their `forward()` method overridden, and very often you will want to override the `__init__` method as well. \n",
    "\n",
    "The `__init__` method sets up the module. This is also often where the internal modules and parameters are initialized.\n",
    "\n",
    "The `forward` method defines what happens when you *apply* the module.\n",
    "\n",
    "In the background, PyTorch makes use of your code in the forward method and determines how to implement back-propagation with it - but all you need to do is to define the forward pass!"
   ]
  },
  {
   "cell_type": "code",
   "execution_count": 201,
   "metadata": {},
   "outputs": [
    {
     "data": {
      "text/plain": [
       "[6, 7, 8, 9, 10]"
      ]
     },
     "execution_count": 201,
     "metadata": {},
     "output_type": "execute_result"
    }
   ],
   "source": [
    "test1 = [[1,2,3,4],[5,6,7,8],[9,10,11,12]]\n",
    "test2 = [[1,2,3,],[5,6,7],[9,10,11]]\n",
    "\n",
    "def concat_matrices(M1,M2):\n",
    "    new_matrix = []\n",
    "    for i in range(len(M1)):\n",
    "        new_matrix.append(M1[i] + M2[i])\n",
    "        \n",
    "    return new_matrix\n",
    "\n",
    "concat_matrices(test1, test2)\n",
    "\n",
    "test3 = [1,2,3,4,5]\n",
    "test4 = [5,5,5,5,5]\n",
    "list( map(add, test3, test4) )"
   ]
  },
  {
   "cell_type": "code",
   "execution_count": 202,
   "metadata": {},
   "outputs": [],
   "source": [
    "# First import torch related libraries\n",
    "import torch\n",
    "import torch.nn as nn\n",
    "import torch.nn.functional as F\n",
    "\n",
    "class BagOfWords(nn.Module):\n",
    "    \"\"\"\n",
    "    BagOfWords classification model\n",
    "    \"\"\"\n",
    "    def __init__(self, vocab_size, emb_dim, comb_method, model_type):\n",
    "        \"\"\"\n",
    "        @param vocab_size: size of the vocabulary. \n",
    "        @param emb_dim: size of the word embedding\n",
    "        \"\"\"\n",
    "        super(BagOfWords, self).__init__()\n",
    "        # pay attention to padding_idx \n",
    "        self.embed = nn.Embedding(vocab_size, emb_dim, padding_idx=0)\n",
    "        self.model_type=model_type\n",
    "        #Want 2 hidden layers.  Dims can change out of linear1 must = input of linear2\n",
    "        if self.model_type=='NN':\n",
    "            if comb_method=='concat':\n",
    "                self.linear1 = nn.Linear(emb_dim*2,50)\n",
    "                self.linear2 = nn.Linear(50,20)\n",
    "                self.linear3 = nn.Linear(20,3)\n",
    "            elif comb_method=='sum':\n",
    "                self.linear1 = nn.Linear(emb_dim,50)\n",
    "                self.linear2 = nn.Linear(50,20)\n",
    "                self.linear3 = nn.Linear(20,3)\n",
    "            elif comb_method=='product':\n",
    "                self.linear1 = nn.Linear(emb_dim,50)\n",
    "                self.linear2 = nn.Linear(50,20)\n",
    "                self.linear3 = nn.Linear(20,3)\n",
    "            else:\n",
    "                raise Exception('Vect comb methods incl concat, sum, or mult. Comb used was: {}'.format(self.comb_method))\n",
    "        elif self.model_type=='LG':\n",
    "            self.linear1 = nn.Linear(emb_dim,20)\n",
    "        else:\n",
    "            raise Exception('Model types incl NN (neural network) or LG (logistic regression).  Model used was: {}'.format(self.model_type))\n",
    "        \n",
    "        self.comb_method=comb_method\n",
    "    \n",
    "    def forward(self, data1, data2, lengths1, lengths2):\n",
    "        \"\"\"\n",
    "        @param data: matrix of size (batch_size, max_sentence_length). Each row in data represents a \n",
    "            review that is represented using n-gram index. Note that they are padded to have same length.\n",
    "        @param length: an int tensor of size (batch_size), which represents the non-trivial (excludes padding)\n",
    "            length of each sentences in the data.\n",
    "        \"\"\"\n",
    "        \n",
    "        data1_vecrep=self.embed(data1)\n",
    "        data2_vecrep=self.embed(data2)\n",
    "        \n",
    "        out1=torch.sum(data1_vecrep, dim=1)\n",
    "        out2=torch.sum(data2_vecrep, dim=1)\n",
    "        \n",
    "        out1 /= lengths1.view(lengths1.size()[0],1).expand_as(out1).float()\n",
    "        out2 /= lengths2.view(lengths2.size()[0],1).expand_as(out2).float()\n",
    "        \n",
    "        if self.comb_method=='concat':\n",
    "            out=torch.cat((out1,out2), dim=1, out=None)\n",
    "        elif self.comb_method=='sum':\n",
    "            out=out1+out2\n",
    "        elif self.comb_method=='product':\n",
    "            out=out1*out2\n",
    "\n",
    "        if self.model_type=='NN':\n",
    "            out = self.linear1(out.float())\n",
    "            out = F.relu(out)\n",
    "            out = self.linear2(out.float())\n",
    "            out = F.relu(out)\n",
    "            out = self.linear3(out.float())\n",
    "        elif self.model_type=='LG':\n",
    "            out = self.linear1(out.float())\n",
    "\n",
    "        return out"
   ]
  },
  {
   "cell_type": "markdown",
   "metadata": {},
   "source": [
    "### Loss Function and Optimizer"
   ]
  },
  {
   "cell_type": "markdown",
   "metadata": {},
   "source": [
    "Note that in our Bag of Words model we haven't applied softmax to the output of linear layer. Why?\n",
    "We use `nn.CrossEntropyLoss()` to train. From pytorch documentation for `nn.CrossEntropyLoss()` ( https://pytorch.org/docs/stable/nn.html ) - this criterion combines `nn.LogSoftmax()` and `nn.NLLLoss()` in one single class. So, this is actually exactly the same as minimizing the log likelihood after applying softmax."
   ]
  },
  {
   "cell_type": "code",
   "execution_count": 203,
   "metadata": {},
   "outputs": [],
   "source": [
    "#create models with various embedding dimensions for hyperparameter tuning\n",
    "model = BagOfWords(len(id2token_combined_sent), 100,'concat','NN')"
   ]
  },
  {
   "cell_type": "code",
   "execution_count": 204,
   "metadata": {},
   "outputs": [],
   "source": [
    "# Criterion and Optimizer\n",
    "criterion = torch.nn.CrossEntropyLoss()\n",
    "\n",
    "learning_rate = 0.01\n",
    "optimizer = torch.optim.Adam(model.parameters(), lr=learning_rate)"
   ]
  },
  {
   "cell_type": "code",
   "execution_count": 205,
   "metadata": {},
   "outputs": [
    {
     "name": "stdout",
     "output_type": "stream",
     "text": [
      "torch.Size([10002, 100])\n",
      "torch.Size([50, 200])\n",
      "torch.Size([50])\n",
      "torch.Size([20, 50])\n",
      "torch.Size([20])\n",
      "torch.Size([3, 20])\n",
      "torch.Size([3])\n"
     ]
    }
   ],
   "source": [
    "for x in model.parameters():\n",
    "    print(x.shape)"
   ]
  },
  {
   "cell_type": "markdown",
   "metadata": {},
   "source": [
    "### Training the Model"
   ]
  },
  {
   "cell_type": "code",
   "execution_count": 207,
   "metadata": {},
   "outputs": [],
   "source": [
    "num_epochs = 1 # number epoch to train\n",
    "\n",
    "# Function for testing the model\n",
    "def test_model(loader, model):\n",
    "    \"\"\"\n",
    "    Help function that tests the model's performance on a dataset\n",
    "    @param: loader - data loader for the dataset to test against\n",
    "    \"\"\"\n",
    "    correct = 0\n",
    "    total = 0\n",
    "    model.eval()\n",
    "    for data1, data2, lengths1, lengths2, labels in loader:\n",
    "        data_batch1, data_batch2, length_batch1, length_batch2, label_batch = data1, data2, lengths1, lengths2, labels\n",
    "        outputs = F.softmax(model(data_batch1, data_batch2, length_batch1, length_batch2), dim=1)\n",
    "        predicted = outputs.max(1, keepdim=True)[1]\n",
    "        \n",
    "        total += labels.size(0)\n",
    "        correct += predicted.eq(labels.view_as(predicted)).sum().item()\n",
    "    return (100 * correct / total)"
   ]
  },
  {
   "cell_type": "code",
   "execution_count": 208,
   "metadata": {},
   "outputs": [
    {
     "data": {
      "text/html": [
       "<div>\n",
       "<style scoped>\n",
       "    .dataframe tbody tr th:only-of-type {\n",
       "        vertical-align: middle;\n",
       "    }\n",
       "\n",
       "    .dataframe tbody tr th {\n",
       "        vertical-align: top;\n",
       "    }\n",
       "\n",
       "    .dataframe thead th {\n",
       "        text-align: right;\n",
       "    }\n",
       "</style>\n",
       "<table border=\"1\" class=\"dataframe\">\n",
       "  <thead>\n",
       "    <tr style=\"text-align: right;\">\n",
       "      <th></th>\n",
       "      <th>model_type</th>\n",
       "      <th>epochs</th>\n",
       "      <th>sent_comb_method</th>\n",
       "      <th>vocab_size</th>\n",
       "      <th>embed_dim</th>\n",
       "      <th>train_acc</th>\n",
       "      <th>val_acc</th>\n",
       "      <th>val_loss</th>\n",
       "    </tr>\n",
       "  </thead>\n",
       "  <tbody>\n",
       "  </tbody>\n",
       "</table>\n",
       "</div>"
      ],
      "text/plain": [
       "Empty DataFrame\n",
       "Columns: [model_type, epochs, sent_comb_method, vocab_size, embed_dim, train_acc, val_acc, val_loss]\n",
       "Index: []"
      ]
     },
     "execution_count": 208,
     "metadata": {},
     "output_type": "execute_result"
    }
   ],
   "source": [
    "#create pandas DF to store results\n",
    "results_df=pd.DataFrame(columns=['model_type','epochs','sent_comb_method','vocab_size','embed_dim','train_acc','val_acc','val_loss'])\n",
    "results_df"
   ]
  },
  {
   "cell_type": "code",
   "execution_count": null,
   "metadata": {},
   "outputs": [
    {
     "name": "stdout",
     "output_type": "stream",
     "text": [
      "Epoch: [1/1], Step: [3001/3125], Validation Acc: 61.3\n"
     ]
    }
   ],
   "source": [
    "#dim_testsizes=[100,200,300]\n",
    "#comb_methods=['sum','concat','product']\n",
    "#create short list versions for faster testing\n",
    "dim_testsizes=[100]\n",
    "comb_methods=['product']\n",
    "model_types=['NN','LG']\n",
    "\n",
    "#if not os.path.exists('train_all_combined_sentence_tokens.p'):\n",
    "\n",
    "learning_rate = 0.01\n",
    "criterion = torch.nn.CrossEntropyLoss()\n",
    "\n",
    "#search for best results\n",
    "for dimension in dim_testsizes:\n",
    "    for combination_method in comb_methods:\n",
    "        for model_type in model_types:\n",
    "            for loader in dataloader_list:\n",
    "                model=BagOfWords(loader[2], dimension, combination_method, model_type)\n",
    "                optimizer=torch.optim.Adam(model.parameters(), lr=learning_rate)\n",
    "                save_str=(model_type+'_'+str(num_epochs)+'_'+combination_method+'_'+str(loader[2])+'_'+str(dimension))\n",
    "                #check to see if we have already run this model/epoch/comb method/vocab size/embed combination\n",
    "                #if we haven't run it yet, run it and then save\n",
    "                if not os.path.exists(save_str):\n",
    "                    for epoch in range(num_epochs):\n",
    "                        for i, (data1, data2, lengths1, lengths2, labels) in enumerate(loader[0]):\n",
    "                            model.train()\n",
    "                            data_batch1, data_batch2, length_batch1, length_batch2, label_batch = data1, data2, lengths1, lengths2, labels\n",
    "                            model.zero_grad()\n",
    "                            outputs = model(data_batch1, data_batch2, length_batch1, length_batch2)\n",
    "                            loss = criterion(outputs, label_batch)\n",
    "                            loss.backward()\n",
    "                            optimizer.step()\n",
    "                            # validate every x iterations\n",
    "                            if i > 0 and i % 3000 == 0:\n",
    "                                # validate\n",
    "                                val_acc = test_model(loader[1], model)\n",
    "                                print('Epoch: [{}/{}], Step: [{}/{}], Validation Acc: {}'.format( \n",
    "                                    epoch+1, num_epochs, i+1, len(loader[0]), val_acc))\n",
    "                    #now save the model so we don't have to rerun\n",
    "                    torch.save(model.state_dict(),save_str)\n",
    "                #if we have already run this model/epoch/comb method/vocab size/embed combination, load instead\n",
    "                else:\n",
    "                    model.load_state_dict(torch.load(save_str))\n",
    "\n",
    "                #now we want to save results, but only if we don't yet have these results in the table\n",
    "                if not ((results_df['model_type'] == model_type) & (results_df['epochs'] == num_epochs) & \\\n",
    "                    (results_df['sent_comb_method']==combination_method) & \\\n",
    "                    (results_df['vocab_size']==model.embed.num_embeddings-2) & \\\n",
    "                    (results_df['embed_dim']==model.embed.embedding_dim)).any():\n",
    "                    results_df=results_df.append(pd.Series([model_type,num_epochs,combination_method,model.embed.num_embeddings-2,model.embed.embedding_dim,test_model(loader[0], model),test_model(loader[1], model),loss],index=results_df.columns),ignore_index=True)\n",
    "\n"
   ]
  },
  {
   "cell_type": "code",
   "execution_count": 160,
   "metadata": {},
   "outputs": [
    {
     "data": {
      "text/html": [
       "<div>\n",
       "<style scoped>\n",
       "    .dataframe tbody tr th:only-of-type {\n",
       "        vertical-align: middle;\n",
       "    }\n",
       "\n",
       "    .dataframe tbody tr th {\n",
       "        vertical-align: top;\n",
       "    }\n",
       "\n",
       "    .dataframe thead th {\n",
       "        text-align: right;\n",
       "    }\n",
       "</style>\n",
       "<table border=\"1\" class=\"dataframe\">\n",
       "  <thead>\n",
       "    <tr style=\"text-align: right;\">\n",
       "      <th></th>\n",
       "      <th>model_type</th>\n",
       "      <th>epochs</th>\n",
       "      <th>sent_comb_method</th>\n",
       "      <th>vocab_size</th>\n",
       "      <th>embed_dim</th>\n",
       "      <th>train_acc</th>\n",
       "      <th>val_acc</th>\n",
       "      <th>val_loss</th>\n",
       "    </tr>\n",
       "  </thead>\n",
       "  <tbody>\n",
       "    <tr>\n",
       "      <td>1</td>\n",
       "      <td>NN</td>\n",
       "      <td>3</td>\n",
       "      <td>product</td>\n",
       "      <td>5002</td>\n",
       "      <td>100</td>\n",
       "      <td>85.482</td>\n",
       "      <td>64.4</td>\n",
       "      <td>tensor(0.4344, grad_fn=&lt;NllLossBackward&gt;)</td>\n",
       "    </tr>\n",
       "    <tr>\n",
       "      <td>0</td>\n",
       "      <td>NN</td>\n",
       "      <td>3</td>\n",
       "      <td>product</td>\n",
       "      <td>10002</td>\n",
       "      <td>100</td>\n",
       "      <td>54.822</td>\n",
       "      <td>48.0</td>\n",
       "      <td>tensor(0.7524, grad_fn=&lt;NllLossBackward&gt;)</td>\n",
       "    </tr>\n",
       "    <tr>\n",
       "      <td>2</td>\n",
       "      <td>NN</td>\n",
       "      <td>3</td>\n",
       "      <td>product</td>\n",
       "      <td>1002</td>\n",
       "      <td>100</td>\n",
       "      <td>51.618</td>\n",
       "      <td>47.9</td>\n",
       "      <td>tensor(1.0346, grad_fn=&lt;NllLossBackward&gt;)</td>\n",
       "    </tr>\n",
       "  </tbody>\n",
       "</table>\n",
       "</div>"
      ],
      "text/plain": [
       "  model_type epochs sent_comb_method vocab_size embed_dim  train_acc  val_acc  \\\n",
       "1         NN      3          product       5002       100     85.482     64.4   \n",
       "0         NN      3          product      10002       100     54.822     48.0   \n",
       "2         NN      3          product       1002       100     51.618     47.9   \n",
       "\n",
       "                                    val_loss  \n",
       "1  tensor(0.4344, grad_fn=<NllLossBackward>)  \n",
       "0  tensor(0.7524, grad_fn=<NllLossBackward>)  \n",
       "2  tensor(1.0346, grad_fn=<NllLossBackward>)  "
      ]
     },
     "execution_count": 160,
     "metadata": {},
     "output_type": "execute_result"
    }
   ],
   "source": [
    "results_df.sort_values(by=['val_acc'],axis=0,ascending=False)"
   ]
  },
  {
   "cell_type": "code",
   "execution_count": null,
   "metadata": {},
   "outputs": [],
   "source": []
  }
 ],
 "metadata": {
  "kernelspec": {
   "display_name": "Python 3",
   "language": "python",
   "name": "python3"
  },
  "language_info": {
   "codemirror_mode": {
    "name": "ipython",
    "version": 3
   },
   "file_extension": ".py",
   "mimetype": "text/x-python",
   "name": "python",
   "nbconvert_exporter": "python",
   "pygments_lexer": "ipython3",
   "version": "3.6.9"
  }
 },
 "nbformat": 4,
 "nbformat_minor": 4
}
