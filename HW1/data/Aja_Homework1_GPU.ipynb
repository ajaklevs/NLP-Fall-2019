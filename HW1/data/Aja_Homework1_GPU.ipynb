{
 "cells": [
  {
   "cell_type": "code",
   "execution_count": 1,
   "metadata": {},
   "outputs": [],
   "source": [
    "import numpy as np\n",
    "import pandas as pd\n",
    "import spacy\n",
    "import string\n",
    "import pickle as pkl\n",
    "from sklearn import preprocessing\n",
    "import os.path\n",
    "from operator import add"
   ]
  },
  {
   "cell_type": "code",
   "execution_count": 2,
   "metadata": {},
   "outputs": [],
   "source": [
    "#load in the data\n",
    "train_df = pd.read_csv('snli_train.tsv', sep=\"\\t\")\n",
    "val_df = pd.read_csv('snli_val.tsv',sep=\"\\t\")\n",
    "\n",
    "#get data & convert sentences to lists\n",
    "train_sentence1=train_df['sentence1'].values.tolist()\n",
    "train_sentence2=train_df['sentence2'].values.tolist()\n",
    "val_sentence1=val_df['sentence1'].values.tolist()\n",
    "val_sentence2=val_df['sentence2'].values.tolist()\n",
    "\n",
    "#convert the text labels to numeric\n",
    "le = preprocessing.LabelEncoder()\n",
    "le.fit(train_df['label'])\n",
    "train_targets=le.transform(train_df['label']).tolist()\n",
    "val_targets=le.transform(val_df['label']).tolist()"
   ]
  },
  {
   "cell_type": "code",
   "execution_count": 4,
   "metadata": {},
   "outputs": [],
   "source": [
    "'''Faster tokenizer'''\n",
    "def tokenize_dataset(sentences):\n",
    "    token_dataset = []\n",
    "    all_tokens = []\n",
    "    for sentence in sentences:\n",
    "        tokens = sentence.lower().translate(str.maketrans('', '', string.punctuation)).split()\n",
    "        token_dataset.append(tokens)\n",
    "        all_tokens += tokens\n",
    "    return token_dataset, all_tokens"
   ]
  },
  {
   "cell_type": "code",
   "execution_count": 3,
   "metadata": {},
   "outputs": [],
   "source": [
    "# Load English tokenizer, tagger, parser, NER and word vectors\n",
    "tokenizer = spacy.load('en_core_web_sm')\n",
    "punctuations = string.punctuation\n",
    "\n",
    "# lowercase and remove punctuation\n",
    "def tokenize(sent):\n",
    "    tokens = tokenizer(sent)\n",
    "    return [token.text.lower() for token in tokens if (token.text not in punctuations)]"
   ]
  },
  {
   "cell_type": "code",
   "execution_count": 4,
   "metadata": {},
   "outputs": [],
   "source": [
    "# This is the code cell that tokenizes train/val/test datasets\n",
    "def tokenize_dataset(dataset):\n",
    "    token_dataset = []\n",
    "    # we are keeping track of all tokens in dataset \n",
    "    # in order to create vocabulary later\n",
    "    all_tokens = []\n",
    "    \n",
    "    for sample in dataset:\n",
    "        tokens = tokenize(sample)\n",
    "        token_dataset.append(tokens)\n",
    "        all_tokens += tokens\n",
    "\n",
    "    return token_dataset, all_tokens"
   ]
  },
  {
   "cell_type": "code",
   "execution_count": 5,
   "metadata": {},
   "outputs": [],
   "source": [
    "#train set tokens\n",
    "if not os.path.exists('train_all_combined_sentence_tokens.p'):\n",
    "    print(\"Tokenizing train data\")\n",
    "    train_sentence1_tokens, train_all_sentence1_tokens = tokenize_dataset(train_sentence1)\n",
    "    train_sentence2_tokens, train_all_sentence2_tokens = tokenize_dataset(train_sentence2)\n",
    "    train_all_combined_sentence_tokens = train_all_sentence1_tokens + train_all_sentence2_tokens\n",
    "    pkl.dump(train_all_combined_sentence_tokens, open(\"train_all_combined_sentence_tokens.p\", \"wb\"))"
   ]
  },
  {
   "cell_type": "code",
   "execution_count": 6,
   "metadata": {},
   "outputs": [],
   "source": [
    "#if pickle files do not exist, collect them.  Otherwise, this if block will not run\n",
    "if not os.path.exists('train_sentence1_tokens.p'):\n",
    "    print (\"Tokenizing train data\")\n",
    "    train_sentence1_tokens, train_all_sentence1_tokens = tokenize_dataset(train_sentence1)\n",
    "    train_sentence2_tokens, train_all_sentence2_tokens = tokenize_dataset(train_sentence2)\n",
    "    pkl.dump(train_sentence1_tokens, open(\"train_sentence1_tokens.p\", \"wb\"))\n",
    "    pkl.dump(train_sentence2_tokens, open(\"train_sentence2_tokens.p\", \"wb\"))\n",
    "    #pkl.dump(train_all_sentence1_tokens, open(\"train_all_sentence1_tokens.p\", \"wb\"))\n",
    "    #pkl.dump(train_all_sentence2_tokens, open(\"train_all_sentence2_tokens.p\", \"wb\"))1\n",
    "\n",
    "    #combine tokens from both sentences to create a shared dictionary\n",
    "    train_all_combined_sentence_tokens = train_all_sentence1_tokens + train_all_sentence2_tokens\n",
    "    pkl.dump(train_all_combined_sentence_tokens, open(\"train_all_combined_sentence_tokens.p\", \"wb\"))\n",
    "\n",
    "    #val set tokens\n",
    "    print (\"Tokenizing val data\")\n",
    "    val_sentence1_tokens, _ = tokenize_dataset(val_sentence1)\n",
    "    val_sentence2_tokens, _ = tokenize_dataset(val_sentence2)\n",
    "    pkl.dump(val_sentence1_tokens, open(\"val_sentence1_tokens.p\", \"wb\"))\n",
    "    pkl.dump(val_sentence2_tokens, open(\"val_sentence2_tokens.p\", \"wb\"))"
   ]
  },
  {
   "cell_type": "code",
   "execution_count": 6,
   "metadata": {},
   "outputs": [],
   "source": [
    "#If you have previously run the previous cell, run this cell instead to load preprocessed datasets\n",
    "train_sentence1_tokens = pkl.load(open(\"train_sentence1_tokens.p\", \"rb\"))\n",
    "train_sentence2_tokens = pkl.load(open(\"train_sentence2_tokens.p\", \"rb\"))\n",
    "train_all_combined_sentence_tokens = pkl.load(open(\"train_all_combined_sentence_tokens.p\", \"rb\"))\n",
    "train_all_sentence1_tokens = pkl.load(open(\"train_all_sentence1_tokens.p\", \"rb\"))\n",
    "train_all_sentence2_tokens = pkl.load(open(\"train_all_sentence2_tokens.p\", \"rb\"))\n",
    "val_sentence1_tokens = pkl.load(open(\"val_sentence1_tokens.p\", \"rb\"))\n",
    "val_sentence2_tokens = pkl.load(open(\"val_sentence2_tokens.p\", \"rb\"))"
   ]
  },
  {
   "cell_type": "code",
   "execution_count": 7,
   "metadata": {},
   "outputs": [
    {
     "name": "stdout",
     "output_type": "stream",
     "text": [
      "Train sentence1 dataset size is 100000\n",
      "Train sentence2 dataset size is 100000\n",
      "Val sentence1 dataset size is 1000\n",
      "Val sentence2 dataset size is 1000\n",
      "\n",
      "Total number of tokens in sentence1 train dataset is 1294135\n",
      "Total number of tokens in sentence2 train dataset is 743372\n",
      "Total number of tokens in combined sent1 & sent2 train dataset is 2037507\n",
      "\n",
      "Total number of *unique* tokens in sentence1 train dataset is 14131\n",
      "Total number of *unique* tokens in sentence2 train dataset is 15225\n",
      "Total number of *unique* tokens in sent1 & sent2 train dataset is 19642\n"
     ]
    }
   ],
   "source": [
    "#print information about the token datasets\n",
    "# double checking\n",
    "print (\"Train sentence1 dataset size is {}\".format(len(train_sentence1_tokens)))\n",
    "print (\"Train sentence2 dataset size is {}\".format(len(train_sentence2_tokens)))\n",
    "print (\"Val sentence1 dataset size is {}\".format(len(val_sentence1_tokens)))\n",
    "print (\"Val sentence2 dataset size is {}\".format(len(val_sentence2_tokens)))\n",
    "\n",
    "print (\"\\nTotal number of tokens in sentence1 train dataset is {}\".format(len(train_all_sentence1_tokens)))\n",
    "print (\"Total number of tokens in sentence2 train dataset is {}\".format(len(train_all_sentence2_tokens)))\n",
    "print (\"Total number of tokens in combined sent1 & sent2 train dataset is {}\".format(len(train_all_combined_sentence_tokens)))\n",
    "\n",
    "print (\"\\nTotal number of *unique* tokens in sentence1 train dataset is {}\".format(len(set(train_all_sentence1_tokens))))\n",
    "print (\"Total number of *unique* tokens in sentence2 train dataset is {}\".format(len(set(train_all_sentence2_tokens))))\n",
    "print (\"Total number of *unique* tokens in sent1 & sent2 train dataset is {}\".format(len(set(train_all_combined_sentence_tokens))))\n"
   ]
  },
  {
   "cell_type": "code",
   "execution_count": 8,
   "metadata": {},
   "outputs": [],
   "source": [
    "#build vocabularies for sentence1 and sentence2\n",
    "from collections import Counter\n",
    "\n",
    "max_vocab_size = 10000\n",
    "# save index 0 for unk and 1 for pad\n",
    "PAD_IDX = 0\n",
    "UNK_IDX = 1\n",
    "\n",
    "def build_vocab(all_tokens):\n",
    "    # Returns:\n",
    "    # id2token: list of tokens, where id2token[i] returns token that corresponds to token i\n",
    "    # token2id: dictionary where keys represent tokens and corresponding values represent indices\n",
    "    token_counter = Counter(all_tokens)\n",
    "    vocab, count = zip(*token_counter.most_common(max_vocab_size))\n",
    "    id2token = list(vocab)\n",
    "    token2id = dict(zip(vocab, range(2,2+len(vocab)))) \n",
    "    id2token = ['<pad>', '<unk>'] + id2token\n",
    "    token2id['<pad>'] = PAD_IDX \n",
    "    token2id['<unk>'] = UNK_IDX\n",
    "    return token2id, id2token\n",
    "\n",
    "token2id_combined_sent, id2token_combined_sent = build_vocab(train_all_combined_sentence_tokens)\n"
   ]
  },
  {
   "cell_type": "code",
   "execution_count": 9,
   "metadata": {},
   "outputs": [
    {
     "name": "stdout",
     "output_type": "stream",
     "text": [
      "Token id 4842 ; token recess\n",
      "Token recess; token id 4842\n"
     ]
    }
   ],
   "source": [
    "# Lets check the dictionary by loading random token from it\n",
    "import random \n",
    "\n",
    "random_token_id = random.randint(0, len(id2token_combined_sent)-1)\n",
    "random_token = id2token_combined_sent[random_token_id]\n",
    "\n",
    "print (\"Token id {} ; token {}\".format(random_token_id, id2token_combined_sent[random_token_id]))\n",
    "print (\"Token {}; token id {}\".format(random_token, token2id_combined_sent[random_token]))"
   ]
  },
  {
   "cell_type": "code",
   "execution_count": 10,
   "metadata": {},
   "outputs": [
    {
     "name": "stdout",
     "output_type": "stream",
     "text": [
      "Train sentence1 dataset size is 100000\n",
      "Train sentence2 dataset size is 100000\n",
      "Val sentence1 dataset size is 1000\n",
      "Val sentence2 dataset size is 1000\n"
     ]
    }
   ],
   "source": [
    "# convert token to id in the dataset.  After running this cell we will have converted the word tokens to indices\n",
    "def token2index_dataset(tokens_data,token2id):\n",
    "    indices_data = []\n",
    "    for tokens in tokens_data:\n",
    "        index_list = [token2id[token] if token in token2id else UNK_IDX for token in tokens]\n",
    "        indices_data.append(index_list)\n",
    "    return indices_data\n",
    "\n",
    "train_sentence1_data_indices = token2index_dataset(train_sentence1_tokens,token2id_combined_sent)\n",
    "train_sentence2_data_indices = token2index_dataset(train_sentence2_tokens,token2id_combined_sent)\n",
    "val_sentence1_data_indices = token2index_dataset(val_sentence1_tokens,token2id_combined_sent)\n",
    "val_sentence2_data_indices = token2index_dataset(val_sentence2_tokens,token2id_combined_sent)\n",
    "\n",
    "# double checking\n",
    "print (\"Train sentence1 dataset size is {}\".format(len(train_sentence1_data_indices)))\n",
    "print (\"Train sentence2 dataset size is {}\".format(len(train_sentence2_data_indices)))\n",
    "print (\"Val sentence1 dataset size is {}\".format(len(val_sentence1_data_indices)))\n",
    "print (\"Val sentence2 dataset size is {}\".format(len(val_sentence2_data_indices)))"
   ]
  },
  {
   "cell_type": "code",
   "execution_count": 11,
   "metadata": {},
   "outputs": [
    {
     "name": "stdout",
     "output_type": "stream",
     "text": [
      "['a', 'man', 'in', 'a', 'dark', 'shirt', 'and', 'pants', 'riding', 'a', 'tall', 'bicycle']\n",
      "[2, 6, 4, 2, 180, 20, 8, 137, 65, 2, 305, 193]\n",
      "['a', 'guy', 'is', 'riding', 'a', 'bike', 'with', 'friends']\n",
      "[2, 148, 5, 65, 2, 84, 11, 251]\n"
     ]
    }
   ],
   "source": [
    "#visualize a random sentence1 and sentence2 paired training example\n",
    "rand_training_example = random.randint(0, len(train_sentence1) - 1)\n",
    "print (train_sentence1_tokens[rand_training_example])\n",
    "print(train_sentence1_data_indices[rand_training_example])\n",
    "\n",
    "print (train_sentence2_tokens[rand_training_example])\n",
    "print(train_sentence2_data_indices[rand_training_example])"
   ]
  },
  {
   "cell_type": "code",
   "execution_count": 12,
   "metadata": {},
   "outputs": [
    {
     "name": "stdout",
     "output_type": "stream",
     "text": [
      "sentence1 average is: 12.94135, std dev is: 5.755700667816214, max is: 78, min is: 2\n",
      "sentence2 average is: 7.43372, std dev is: 3.0907033118046123, max is: 38, min is: 1\n"
     ]
    }
   ],
   "source": [
    "#Check average, max, min sentence lengths to determine word padding\n",
    "total_sent1_len=0\n",
    "total_sent2_len=0\n",
    "sent1_lens=[]\n",
    "sent2_lens=[]\n",
    "for i in range(0,len(train_sentence1_tokens)):\n",
    "    total_sent1_len+=len(train_sentence1_tokens[i])\n",
    "    total_sent2_len+=len(train_sentence2_tokens[i])\n",
    "    sent1_lens.append(len(train_sentence1_tokens[i]))\n",
    "    sent2_lens.append(len(train_sentence2_tokens[i]))\n",
    "\n",
    "avg1=total_sent1_len/len(train_sentence1)\n",
    "avg2=total_sent2_len/len(train_sentence2)\n",
    "print(\"sentence1 average is: \"+str(avg1)+\", std dev is: \"+str(np.std(sent1_lens))+\", max is: \"+str(max(sent1_lens))+\", min is: \"+str(min(sent1_lens)))\n",
    "print(\"sentence2 average is: \"+str(avg2)+\", std dev is: \"+str(np.std(sent2_lens))+\", max is: \"+str(max(sent2_lens))+\", min is: \"+str(min(sent2_lens)))\n"
   ]
  },
  {
   "cell_type": "code",
   "execution_count": 13,
   "metadata": {},
   "outputs": [],
   "source": [
    "import numpy as np\n",
    "import torch\n",
    "from torch.utils.data import Dataset\n",
    "\n",
    "dtype = torch.float\n",
    "#device = torch.device(\"cpu\")\n",
    "device = torch.device(\"cuda:0\" if torch.cuda.is_available() else \"cpu\")\n",
    "\n",
    "class NewsGroupDataset(Dataset):\n",
    "    \"\"\"\n",
    "    Class that represents a train/validation/test dataset that's readable for PyTorch\n",
    "    Note that this class inherits torch.utils.data.Dataset\n",
    "    \"\"\"\n",
    "    \n",
    "    def __init__(self, data_list1, data_list2, target_list, MAX_SENTENCE_LENGTH):\n",
    "        \"\"\"\n",
    "        @param data_list: list of newsgroup tokens \n",
    "        @param target_list: list of newsgroup targets \n",
    "\n",
    "        \"\"\"\n",
    "        self.data_list1 = data_list1\n",
    "        self.data_list2 = data_list2\n",
    "        self.MAX_SENTENCE_LENGTH=MAX_SENTENCE_LENGTH\n",
    "        self.target_list = target_list\n",
    "        assert (len(self.data_list1) == len(self.target_list) == len(self.data_list2))\n",
    "\n",
    "    def __len__(self):\n",
    "        return len(self.data_list1)\n",
    "        \n",
    "    def __getitem__(self, key):\n",
    "        \"\"\"\n",
    "        Triggered when you call dataset[i]\n",
    "        \"\"\"\n",
    "        token_idx1 = self.data_list1[key][:self.MAX_SENTENCE_LENGTH]\n",
    "        token_idx2 = self.data_list2[key][:self.MAX_SENTENCE_LENGTH]\n",
    "        label = self.target_list[key]\n",
    "        return [token_idx1, token_idx2, len(token_idx1), len(token_idx2), label]\n",
    "    "
   ]
  },
  {
   "cell_type": "code",
   "execution_count": 14,
   "metadata": {},
   "outputs": [],
   "source": [
    "train_dataset = NewsGroupDataset(train_sentence1_data_indices,train_sentence2_data_indices, train_targets, 25)\n",
    "val_dataset = NewsGroupDataset(val_sentence1_data_indices, val_sentence2_data_indices, val_targets, 25)"
   ]
  },
  {
   "cell_type": "code",
   "execution_count": 15,
   "metadata": {},
   "outputs": [
    {
     "name": "stdout",
     "output_type": "stream",
     "text": [
      "sample lengths:\n",
      "16\n",
      "9\n",
      "21\n",
      "7\n",
      "9\n",
      "9\n",
      "14\n",
      "9\n",
      "9\n",
      "9\n",
      "12\n",
      "5\n",
      "9\n",
      "8\n",
      "6\n",
      "9\n",
      "16\n",
      "4\n",
      "25\n",
      "5\n"
     ]
    }
   ],
   "source": [
    "print(\"sample lengths:\")\n",
    "for i in range(10):\n",
    "    print(train_dataset[i][2])\n",
    "    print(train_dataset[i][3])"
   ]
  },
  {
   "cell_type": "code",
   "execution_count": 16,
   "metadata": {},
   "outputs": [
    {
     "name": "stdout",
     "output_type": "stream",
     "text": [
      "sent1: x [2, 21, 23, 4, 2, 101, 20, 30, 7, 2, 720, 1934, 2, 351, 10, 50];\n",
      "y 16\n",
      "sent2: x [2, 21, 23, 4, 2, 101, 20, 30, 7, 2, 720, 1934, 2, 351, 10, 50];\n",
      "y 16\n"
     ]
    }
   ],
   "source": [
    "## example output\n",
    "\n",
    "print(\"sent1: x {};\\ny {}\".format(train_dataset[0][0], train_dataset[0][2]))\n",
    "print(\"sent2: x {};\\ny {}\".format(train_dataset[0][0], train_dataset[0][2]))"
   ]
  },
  {
   "cell_type": "code",
   "execution_count": 43,
   "metadata": {},
   "outputs": [],
   "source": [
    "MAX_SENTENCE_LENGTH=25\n",
    "\n",
    "def newsgroup_collate_func(batch):\n",
    "    \"\"\"\n",
    "    Customized function for DataLoader that dynamically pads the batch so that all \n",
    "    data have the same length\n",
    "    \"\"\"\n",
    "    data_list1 = []\n",
    "    data_list2 = []\n",
    "    label_list = []\n",
    "    length_list1 = []\n",
    "    length_list2 = []\n",
    "    #print(\"collate batch: \", batch[0][0])\n",
    "    #batch[0][0] = batch[0][0][:MAX_SENTENCE_LENGTH]\n",
    "    for datum in batch:\n",
    "        label_list.append(datum[4])\n",
    "        length_list1.append(datum[2])\n",
    "        length_list2.append(datum[3])\n",
    "    # padding\n",
    "    for datum in batch:\n",
    "        padded_vec1 = np.pad(np.array(datum[0]), \n",
    "                                pad_width=((0,MAX_SENTENCE_LENGTH-datum[2])), \n",
    "                                mode=\"constant\", constant_values=0)\n",
    "        data_list1.append(padded_vec1)\n",
    "        \n",
    "    for datum in batch:\n",
    "        \n",
    "        padded_vec2 = np.pad(np.array(datum[1]), \n",
    "                                pad_width=((0,MAX_SENTENCE_LENGTH-datum[3])), \n",
    "                                mode=\"constant\", constant_values=0)\n",
    "        data_list2.append(padded_vec2)\n",
    "        \n",
    "    return [torch.from_numpy(np.array(data_list1)).type(torch.LongTensor).cuda(), torch.from_numpy(np.array(data_list2)).type(torch.LongTensor).cuda(), torch.LongTensor(length_list1).cuda(), torch.LongTensor(length_list2).cuda(), torch.LongTensor(label_list).cuda()]\n",
    "\n"
   ]
  },
  {
   "cell_type": "code",
   "execution_count": 44,
   "metadata": {},
   "outputs": [],
   "source": [
    "BATCH_SIZE = 32\n",
    "\n",
    "train_loader = torch.utils.data.DataLoader(dataset=train_dataset, \n",
    "                                           batch_size=BATCH_SIZE,\n",
    "                                           collate_fn=newsgroup_collate_func,\n",
    "                                           shuffle=True)\n",
    "\n",
    "val_loader = torch.utils.data.DataLoader(dataset=val_dataset, \n",
    "                                           batch_size=BATCH_SIZE,\n",
    "                                           collate_fn=newsgroup_collate_func,\n",
    "                                           shuffle=True)"
   ]
  },
  {
   "cell_type": "code",
   "execution_count": 45,
   "metadata": {},
   "outputs": [
    {
     "name": "stdout",
     "output_type": "stream",
     "text": [
      "tensor([[   2,  163,   12,    4,    2,   34,  116,    5,   30,    7,    2,  127,\n",
      "           74,   15,    2,  749,  123,    4,  150,    0,    0,    0,    0,    0,\n",
      "            0],\n",
      "        [   2,   59,   26,  379,   66,   11,   19,   77,  141,    0,    0,    0,\n",
      "            0,    0,    0,    0,    0,    0,    0,    0,    0,    0,    0,    0,\n",
      "            0],\n",
      "        [   4,    2,  416,  125,  126,   14,  406,  217,  733,   40,   15,   51,\n",
      "          757, 6995,    0,    0,    0,    0,    0,    0,    0,    0,    0,    0,\n",
      "            0],\n",
      "        [   2,    6,    4,  425, 5755, 4629,    2,   12,    4,  425,    0,    0,\n",
      "            0,    0,    0,    0,    0,    0,    0,    0,    0,    0,    0,    0,\n",
      "            0],\n",
      "        [   2,   35,   10,   14,  912,    2, 2254,    2,  103,    8,    2,    6,\n",
      "            9,   44,    2,  320,   10,  368,    4,   42,   10,    2,   94,   11,\n",
      "          132],\n",
      "        [   2,   35,   10,   21,   14,    9,  278,    2,  146,    4,    3,  382,\n",
      "            0,    0,    0,    0,    0,    0,    0,    0,    0,    0,    0,    0,\n",
      "            0],\n",
      "        [   2,  258,   96,   85,  151, 2413,   47,    2,    6,   96, 1121,   15,\n",
      "          217,  470,    2, 1578,   47,    3,   12,    0,    0,    0,    0,    0,\n",
      "            0],\n",
      "        [   2,   61,   35,    5,  914,    4,    3,   39,    0,    0,    0,    0,\n",
      "            0,    0,    0,    0,    0,    0,    0,    0,    0,    0,    0,    0,\n",
      "            0],\n",
      "        [  56,   14,    9,   40,   67,    2, 1461, 6413,    4,   56,  379,    0,\n",
      "            0,    0,    0,    0,    0,    0,    0,    0,    0,    0,    0,    0,\n",
      "            0],\n",
      "        [   2,   41,  134,   37,    2, 1160,  332,  310,   58,    3,  119,   67,\n",
      "            2,  975,  213,    0,    0,    0,    0,    0,    0,    0,    0,    0,\n",
      "            0],\n",
      "        [   2,   25,   29,    8,    2,   28,    8,   25,   29,    9,   24,   27,\n",
      "           13,  941,   28,   81, 1008,  294,  159,    0,    0,    0,    0,    0,\n",
      "            0],\n",
      "        [   2,    6,    4,    2,  196,    4,    3,  234, 1777,    5, 1035,  899,\n",
      "            0,    0,    0,    0,    0,    0,    0,    0,    0,    0,    0,    0,\n",
      "            0],\n",
      "        [   2,    6,    5,   30,    7,   18,  118, 1967,   24,    2, 2244,   11,\n",
      "          319,  776,   66,   10,   90,    0,    0,    0,    0,    0,    0,    0,\n",
      "            0],\n",
      "        [   2, 1976,    8,   13,   10,   33, 6920,  124,    3,   29,   36,    2,\n",
      "          146,    4,    3,  480,    0,    0,    0,    0,    0,    0,    0,    0,\n",
      "            0],\n",
      "        [  18, 5690,  164,   15,  345,    2, 1366,   68,    0,    0,    0,    0,\n",
      "            0,    0,    0,    0,    0,    0,    0,    0,    0,    0,    0,    0,\n",
      "            0],\n",
      "        [   2,    6,    4,    2,  245,   20,    8,    2,   12,    9,  210,    1,\n",
      "            0,    0,    0,    0,    0,    0,    0,    0,    0,    0,    0,    0,\n",
      "            0],\n",
      "        [   2,   26,    4,   31,    5,  796,  830,    0,    0,    0,    0,    0,\n",
      "            0,    0,    0,    0,    0,    0,    0,    0,    0,    0,    0,    0,\n",
      "            0],\n",
      "        [   2,    6,    8,   12,  640,  261,  151, 1584, 3960,    0,    0,    0,\n",
      "            0,    0,    0,    0,    0,    0,    0,    0,    0,    0,    0,    0,\n",
      "            0],\n",
      "        [ 225,    5,   18, 9952,   10,    2, 3951, 3760,  299,    0,    0,    0,\n",
      "            0,    0,    0,    0,    0,    0,    0,    0,    0,    0,    0,    0,\n",
      "            0],\n",
      "        [   2,  180, 1175,   12,   17,    2,  101,  116,    8,   69,    8,   25,\n",
      "          420,    5,  493,    3,   39,    0,    0,    0,    0,    0,    0,    0,\n",
      "            0],\n",
      "        [  14,    9,  158,   15,  309,   51, 1303,    0,    0,    0,    0,    0,\n",
      "            0,    0,    0,    0,    0,    0,    0,    0,    0,    0,    0,    0,\n",
      "            0],\n",
      "        [  60,   54,  209,    7,   55,    2,   26,    4,    2,   63,  235,  161,\n",
      "            2,   34, 1040,   47,    3, 2255, 7719,   90,  294,    2,  308,   98,\n",
      "         1163],\n",
      "        [   2,   59,   26,    5,   30,    4,    3,  606,   10,    2,  320,   10,\n",
      "         1487,    0,    0,    0,    0,    0,    0,    0,    0,    0,    0,    0,\n",
      "            0],\n",
      "        [   2,    6,    4,    2, 1068,   20,    8,   25,   70,   88,   53,   16,\n",
      "            3,  959,   10,    2,   69, 1263,  415,    5, 1118,   11,  301, 3262,\n",
      "           10],\n",
      "        [  23,   93,  362,    4,  612,  373,    0,    0,    0,    0,    0,    0,\n",
      "            0,    0,    0,    0,    0,    0,    0,    0,    0,    0,    0,    0,\n",
      "            0],\n",
      "        [  49,    9,   13,  575,  543,    4,    2,   43,   85,  429,  106,    0,\n",
      "            0,    0,    0,    0,    0,    0,    0,    0,    0,    0,    0,    0,\n",
      "            0],\n",
      "        [   2,  163,  189,  220,  111,   24,  220,    0,    0,    0,    0,    0,\n",
      "            0,    0,    0,    0,    0,    0,    0,    0,    0,    0,    0,    0,\n",
      "            0],\n",
      "        [   2,   26,   17,   31,  134,  228,   56,  379,    0,    0,    0,    0,\n",
      "            0,    0,    0,    0,    0,    0,    0,    0,    0,    0,    0,    0,\n",
      "            0],\n",
      "        [   2,    6,    8,   21,   23, 8323,   36,  664,  209,   37,   58,    3,\n",
      "          116,   10,    2,  663,  190,    0,    0,    0,    0,    0,    0,    0,\n",
      "            0],\n",
      "        [   2,    6,   17,    2,   70,   30,    7,    2, 1294,   24,   50,  200,\n",
      "            4,    3,   39,    0,    0,    0,    0,    0,    0,    0,    0,    0,\n",
      "            0],\n",
      "        [   2, 1955,  587,   15,  408,    2,  703,    7,  656,  824,  370,   47,\n",
      "          287,    0,    0,    0,    0,    0,    0,    0,    0,    0,    0,    0,\n",
      "            0],\n",
      "        [   2,  684,    6,   11,  200,    5,  574,   73,    2, 3743,    7,    3,\n",
      "          448,   94,    0,    0,    0,    0,    0,    0,    0,    0,    0,    0,\n",
      "            0]], device='cuda:0')\n",
      "torch.Size([32, 25])\n",
      "tensor([19,  9, 14, 10, 25, 12, 19,  8, 11, 15, 19, 12, 17, 16,  8, 12,  7,  9,\n",
      "         9, 17,  7, 25, 13, 25,  6, 11,  7,  8, 17, 15, 13, 14],\n",
      "       device='cuda:0')\n",
      "torch.Size([32])\n",
      "tensor([0, 1, 0, 1, 2, 2, 0, 0, 0, 1, 1, 0, 0, 0, 2, 0, 1, 1, 1, 0, 0, 0, 2, 2,\n",
      "        0, 1, 2, 0, 2, 1, 2, 2], device='cuda:0')\n",
      "torch.Size([32])\n"
     ]
    }
   ],
   "source": [
    "#sent1 example\n",
    "for i,(data1, data2, lengths1, lengths2, labels) in enumerate(train_loader):\n",
    "    print(data1)\n",
    "    print(data1.shape)\n",
    "    print(lengths1)\n",
    "    print(lengths1.shape)\n",
    "    print(labels)\n",
    "    print(labels.shape)\n",
    "    break"
   ]
  },
  {
   "cell_type": "markdown",
   "metadata": {},
   "source": [
    "### Bag-of-Words model in PyTorch"
   ]
  },
  {
   "cell_type": "markdown",
   "metadata": {},
   "source": [
    "Next, we will implement a Bag of Words in PyTorch -- as an `nn.Module`.\n",
    "\n",
    "A `nn.Module` can really be any function, but it is often used to implement layers, functions and models. Note that you can also nest modules.\n",
    "\n",
    "Importantly, modules need to have their `forward()` method overridden, and very often you will want to override the `__init__` method as well. \n",
    "\n",
    "The `__init__` method sets up the module. This is also often where the internal modules and parameters are initialized.\n",
    "\n",
    "The `forward` method defines what happens when you *apply* the module.\n",
    "\n",
    "In the background, PyTorch makes use of your code in the forward method and determines how to implement back-propagation with it - but all you need to do is to define the forward pass!"
   ]
  },
  {
   "cell_type": "code",
   "execution_count": 46,
   "metadata": {},
   "outputs": [
    {
     "data": {
      "text/plain": [
       "[6, 7, 8, 9, 10]"
      ]
     },
     "execution_count": 46,
     "metadata": {},
     "output_type": "execute_result"
    }
   ],
   "source": [
    "test1 = [[1,2,3,4],[5,6,7,8],[9,10,11,12]]\n",
    "test2 = [[1,2,3,],[5,6,7],[9,10,11]]\n",
    "\n",
    "def concat_matrices(M1,M2):\n",
    "    new_matrix = []\n",
    "    for i in range(len(M1)):\n",
    "        new_matrix.append(M1[i] + M2[i])\n",
    "        \n",
    "    return new_matrix\n",
    "\n",
    "concat_matrices(test1, test2)\n",
    "\n",
    "test3 = [1,2,3,4,5]\n",
    "test4 = [5,5,5,5,5]\n",
    "list( map(add, test3, test4) )"
   ]
  },
  {
   "cell_type": "code",
   "execution_count": 47,
   "metadata": {},
   "outputs": [],
   "source": [
    "# First import torch related libraries\n",
    "import torch\n",
    "import torch.nn as nn\n",
    "import torch.nn.functional as F\n",
    "\n",
    "class BagOfWords(nn.Module):\n",
    "    \"\"\"\n",
    "    BagOfWords classification model\n",
    "    \"\"\"\n",
    "    def __init__(self, vocab_size, emb_dim):\n",
    "        \"\"\"\n",
    "        @param vocab_size: size of the vocabulary. \n",
    "        @param emb_dim: size of the word embedding\n",
    "        \"\"\"\n",
    "        super(BagOfWords, self).__init__()\n",
    "        # pay attention to padding_idx \n",
    "        self.embed = nn.Embedding(vocab_size, emb_dim, padding_idx=0)\n",
    "        self.linear = nn.Linear(emb_dim,3)\n",
    "    \n",
    "    def forward(self, data1, data2, lengths1, lengths2):\n",
    "        \"\"\"\n",
    "        \n",
    "        @param data: matrix of size (batch_size, max_sentence_length). Each row in data represents a \n",
    "            review that is represented using n-gram index. Note that they are padded to have same length.\n",
    "        @param length: an int tensor of size (batch_size), which represents the non-trivial (excludes padding)\n",
    "            length of each sentences in the data.\n",
    "        \"\"\"\n",
    "        \n",
    "        data = torch.cat((data1,data2), dim=1, out=None)\n",
    "        out = self.embed(data)\n",
    "        length = lengths1.add(lengths2)\n",
    "        \n",
    "        out = torch.sum(out, dim=1)\n",
    "        out /= length.view(length.size()[0],1).expand_as(out).float()\n",
    "     \n",
    "        # return logits\n",
    "        out = self.linear(out.float())\n",
    "        return out"
   ]
  },
  {
   "cell_type": "code",
   "execution_count": 48,
   "metadata": {},
   "outputs": [
    {
     "data": {
      "text/plain": [
       "BagOfWords(\n",
       "  (embed): Embedding(10002, 100, padding_idx=0)\n",
       "  (linear): Linear(in_features=100, out_features=3, bias=True)\n",
       ")"
      ]
     },
     "execution_count": 48,
     "metadata": {},
     "output_type": "execute_result"
    }
   ],
   "source": [
    "emb_dim = 100\n",
    "model = BagOfWords(len(id2token_combined_sent), emb_dim)\n",
    "model.cuda()"
   ]
  },
  {
   "cell_type": "code",
   "execution_count": 49,
   "metadata": {},
   "outputs": [
    {
     "data": {
      "text/plain": [
       "Linear(in_features=100, out_features=3, bias=True)"
      ]
     },
     "execution_count": 49,
     "metadata": {},
     "output_type": "execute_result"
    }
   ],
   "source": [
    "model.linear"
   ]
  },
  {
   "cell_type": "code",
   "execution_count": 50,
   "metadata": {},
   "outputs": [
    {
     "data": {
      "text/plain": [
       "Embedding(10002, 100, padding_idx=0)"
      ]
     },
     "execution_count": 50,
     "metadata": {},
     "output_type": "execute_result"
    }
   ],
   "source": [
    "model.embed"
   ]
  },
  {
   "cell_type": "code",
   "execution_count": 51,
   "metadata": {},
   "outputs": [
    {
     "data": {
      "text/plain": [
       "Parameter containing:\n",
       "tensor([[ 0.0000,  0.0000,  0.0000,  ...,  0.0000,  0.0000,  0.0000],\n",
       "        [ 0.0935, -1.4218, -0.2147,  ..., -0.8160, -0.0472,  1.2993],\n",
       "        [ 0.4878, -0.4849, -0.2798,  ...,  0.2525,  0.6820, -0.8144],\n",
       "        ...,\n",
       "        [-1.5539, -0.4421, -0.4842,  ...,  0.1281, -0.1372,  1.6230],\n",
       "        [ 0.4291, -2.0984, -0.8362,  ...,  0.1190,  0.8754,  1.2340],\n",
       "        [-0.7894,  0.9278,  1.3049,  ...,  1.2652, -0.0099, -0.0208]],\n",
       "       device='cuda:0', requires_grad=True)"
      ]
     },
     "execution_count": 51,
     "metadata": {},
     "output_type": "execute_result"
    }
   ],
   "source": [
    "model.embed.weight"
   ]
  },
  {
   "cell_type": "code",
   "execution_count": 52,
   "metadata": {},
   "outputs": [
    {
     "data": {
      "text/plain": [
       "torch.Size([10002, 100])"
      ]
     },
     "execution_count": 52,
     "metadata": {},
     "output_type": "execute_result"
    }
   ],
   "source": [
    "model.embed.weight.shape"
   ]
  },
  {
   "cell_type": "markdown",
   "metadata": {},
   "source": [
    "### Loss Function and Optimizer"
   ]
  },
  {
   "cell_type": "markdown",
   "metadata": {},
   "source": [
    "Note that in our Bag of Words model we haven't applied softmax to the output of linear layer. Why?\n",
    "We use `nn.CrossEntropyLoss()` to train. From pytorch documentation for `nn.CrossEntropyLoss()` ( https://pytorch.org/docs/stable/nn.html ) - this criterion combines `nn.LogSoftmax()` and `nn.NLLLoss()` in one single class. So, this is actually exactly the same as minimizing the log likelihood after applying softmax."
   ]
  },
  {
   "cell_type": "code",
   "execution_count": 53,
   "metadata": {},
   "outputs": [],
   "source": [
    "# Criterion and Optimizer\n",
    "criterion = torch.nn.CrossEntropyLoss()  \n",
    "\n",
    "learning_rate = 0.01\n",
    "optimizer = torch.optim.Adam(model.parameters(), lr=learning_rate)"
   ]
  },
  {
   "cell_type": "code",
   "execution_count": 54,
   "metadata": {},
   "outputs": [
    {
     "name": "stdout",
     "output_type": "stream",
     "text": [
      "torch.Size([10002, 100])\n",
      "torch.Size([3, 100])\n",
      "torch.Size([3])\n"
     ]
    }
   ],
   "source": [
    "for x in model.parameters():\n",
    "    print(x.shape)"
   ]
  },
  {
   "cell_type": "markdown",
   "metadata": {},
   "source": [
    "### Training the Model"
   ]
  },
  {
   "cell_type": "code",
   "execution_count": 55,
   "metadata": {},
   "outputs": [
    {
     "name": "stdout",
     "output_type": "stream",
     "text": [
      "Epoch: [1/10], Step: [101/3125], Validation Acc: 37.9\n",
      "Epoch: [1/10], Step: [201/3125], Validation Acc: 42.7\n",
      "Epoch: [1/10], Step: [301/3125], Validation Acc: 44.5\n",
      "Epoch: [1/10], Step: [401/3125], Validation Acc: 44.4\n",
      "Epoch: [1/10], Step: [501/3125], Validation Acc: 48.3\n",
      "Epoch: [1/10], Step: [601/3125], Validation Acc: 48.9\n",
      "Epoch: [1/10], Step: [701/3125], Validation Acc: 48.5\n",
      "Epoch: [1/10], Step: [801/3125], Validation Acc: 48.6\n",
      "Epoch: [1/10], Step: [901/3125], Validation Acc: 50.1\n",
      "Epoch: [1/10], Step: [1001/3125], Validation Acc: 47.4\n",
      "Epoch: [1/10], Step: [1101/3125], Validation Acc: 49.7\n",
      "Epoch: [1/10], Step: [1201/3125], Validation Acc: 48.6\n",
      "Epoch: [1/10], Step: [1301/3125], Validation Acc: 46.9\n",
      "Epoch: [1/10], Step: [1401/3125], Validation Acc: 51.6\n",
      "Epoch: [1/10], Step: [1501/3125], Validation Acc: 49.7\n",
      "Epoch: [1/10], Step: [1601/3125], Validation Acc: 51.1\n",
      "Epoch: [1/10], Step: [1701/3125], Validation Acc: 52.9\n",
      "Epoch: [1/10], Step: [1801/3125], Validation Acc: 52.6\n",
      "Epoch: [1/10], Step: [1901/3125], Validation Acc: 51.7\n",
      "Epoch: [1/10], Step: [2001/3125], Validation Acc: 51.9\n",
      "Epoch: [1/10], Step: [2101/3125], Validation Acc: 51.1\n",
      "Epoch: [1/10], Step: [2201/3125], Validation Acc: 53.3\n",
      "Epoch: [1/10], Step: [2301/3125], Validation Acc: 51.4\n",
      "Epoch: [1/10], Step: [2401/3125], Validation Acc: 52.1\n",
      "Epoch: [1/10], Step: [2501/3125], Validation Acc: 51.7\n",
      "Epoch: [1/10], Step: [2601/3125], Validation Acc: 51.0\n",
      "Epoch: [1/10], Step: [2701/3125], Validation Acc: 51.4\n",
      "Epoch: [1/10], Step: [2801/3125], Validation Acc: 52.4\n",
      "Epoch: [1/10], Step: [2901/3125], Validation Acc: 51.8\n",
      "Epoch: [1/10], Step: [3001/3125], Validation Acc: 52.7\n",
      "Epoch: [1/10], Step: [3101/3125], Validation Acc: 51.0\n",
      "Epoch: [2/10], Step: [101/3125], Validation Acc: 52.4\n",
      "Epoch: [2/10], Step: [201/3125], Validation Acc: 54.3\n",
      "Epoch: [2/10], Step: [301/3125], Validation Acc: 53.6\n",
      "Epoch: [2/10], Step: [401/3125], Validation Acc: 54.5\n",
      "Epoch: [2/10], Step: [501/3125], Validation Acc: 51.7\n",
      "Epoch: [2/10], Step: [601/3125], Validation Acc: 53.2\n",
      "Epoch: [2/10], Step: [701/3125], Validation Acc: 52.8\n",
      "Epoch: [2/10], Step: [801/3125], Validation Acc: 53.6\n",
      "Epoch: [2/10], Step: [901/3125], Validation Acc: 51.3\n",
      "Epoch: [2/10], Step: [1001/3125], Validation Acc: 51.7\n",
      "Epoch: [2/10], Step: [1101/3125], Validation Acc: 52.1\n",
      "Epoch: [2/10], Step: [1201/3125], Validation Acc: 52.3\n",
      "Epoch: [2/10], Step: [1301/3125], Validation Acc: 52.6\n",
      "Epoch: [2/10], Step: [1401/3125], Validation Acc: 53.1\n",
      "Epoch: [2/10], Step: [1501/3125], Validation Acc: 55.0\n",
      "Epoch: [2/10], Step: [1601/3125], Validation Acc: 52.1\n",
      "Epoch: [2/10], Step: [1701/3125], Validation Acc: 52.6\n",
      "Epoch: [2/10], Step: [1801/3125], Validation Acc: 53.3\n",
      "Epoch: [2/10], Step: [1901/3125], Validation Acc: 51.6\n",
      "Epoch: [2/10], Step: [2001/3125], Validation Acc: 52.1\n",
      "Epoch: [2/10], Step: [2101/3125], Validation Acc: 50.3\n",
      "Epoch: [2/10], Step: [2201/3125], Validation Acc: 54.3\n",
      "Epoch: [2/10], Step: [2301/3125], Validation Acc: 52.2\n",
      "Epoch: [2/10], Step: [2401/3125], Validation Acc: 54.5\n",
      "Epoch: [2/10], Step: [2501/3125], Validation Acc: 53.0\n",
      "Epoch: [2/10], Step: [2601/3125], Validation Acc: 51.9\n",
      "Epoch: [2/10], Step: [2701/3125], Validation Acc: 52.5\n",
      "Epoch: [2/10], Step: [2801/3125], Validation Acc: 52.7\n",
      "Epoch: [2/10], Step: [2901/3125], Validation Acc: 52.3\n",
      "Epoch: [2/10], Step: [3001/3125], Validation Acc: 52.6\n",
      "Epoch: [2/10], Step: [3101/3125], Validation Acc: 52.9\n",
      "Epoch: [3/10], Step: [101/3125], Validation Acc: 54.0\n",
      "Epoch: [3/10], Step: [201/3125], Validation Acc: 52.8\n",
      "Epoch: [3/10], Step: [301/3125], Validation Acc: 51.8\n",
      "Epoch: [3/10], Step: [401/3125], Validation Acc: 54.1\n",
      "Epoch: [3/10], Step: [501/3125], Validation Acc: 54.6\n",
      "Epoch: [3/10], Step: [601/3125], Validation Acc: 52.5\n",
      "Epoch: [3/10], Step: [701/3125], Validation Acc: 51.6\n",
      "Epoch: [3/10], Step: [801/3125], Validation Acc: 50.1\n",
      "Epoch: [3/10], Step: [901/3125], Validation Acc: 54.5\n",
      "Epoch: [3/10], Step: [1001/3125], Validation Acc: 54.2\n",
      "Epoch: [3/10], Step: [1101/3125], Validation Acc: 53.5\n",
      "Epoch: [3/10], Step: [1201/3125], Validation Acc: 52.8\n",
      "Epoch: [3/10], Step: [1301/3125], Validation Acc: 51.5\n",
      "Epoch: [3/10], Step: [1401/3125], Validation Acc: 52.6\n",
      "Epoch: [3/10], Step: [1501/3125], Validation Acc: 54.0\n",
      "Epoch: [3/10], Step: [1601/3125], Validation Acc: 52.9\n",
      "Epoch: [3/10], Step: [1701/3125], Validation Acc: 53.3\n",
      "Epoch: [3/10], Step: [1801/3125], Validation Acc: 51.5\n",
      "Epoch: [3/10], Step: [1901/3125], Validation Acc: 52.3\n",
      "Epoch: [3/10], Step: [2001/3125], Validation Acc: 51.9\n",
      "Epoch: [3/10], Step: [2101/3125], Validation Acc: 51.4\n",
      "Epoch: [3/10], Step: [2201/3125], Validation Acc: 52.8\n",
      "Epoch: [3/10], Step: [2301/3125], Validation Acc: 52.7\n",
      "Epoch: [3/10], Step: [2401/3125], Validation Acc: 52.8\n",
      "Epoch: [3/10], Step: [2501/3125], Validation Acc: 52.8\n",
      "Epoch: [3/10], Step: [2601/3125], Validation Acc: 51.0\n",
      "Epoch: [3/10], Step: [2701/3125], Validation Acc: 52.3\n",
      "Epoch: [3/10], Step: [2801/3125], Validation Acc: 52.7\n",
      "Epoch: [3/10], Step: [2901/3125], Validation Acc: 54.3\n",
      "Epoch: [3/10], Step: [3001/3125], Validation Acc: 53.0\n",
      "Epoch: [3/10], Step: [3101/3125], Validation Acc: 53.0\n",
      "Epoch: [4/10], Step: [101/3125], Validation Acc: 54.6\n",
      "Epoch: [4/10], Step: [201/3125], Validation Acc: 54.5\n",
      "Epoch: [4/10], Step: [301/3125], Validation Acc: 52.9\n",
      "Epoch: [4/10], Step: [401/3125], Validation Acc: 54.7\n",
      "Epoch: [4/10], Step: [501/3125], Validation Acc: 52.1\n",
      "Epoch: [4/10], Step: [601/3125], Validation Acc: 54.3\n",
      "Epoch: [4/10], Step: [701/3125], Validation Acc: 54.7\n",
      "Epoch: [4/10], Step: [801/3125], Validation Acc: 53.8\n",
      "Epoch: [4/10], Step: [901/3125], Validation Acc: 54.8\n",
      "Epoch: [4/10], Step: [1001/3125], Validation Acc: 53.5\n",
      "Epoch: [4/10], Step: [1101/3125], Validation Acc: 52.2\n",
      "Epoch: [4/10], Step: [1201/3125], Validation Acc: 52.5\n",
      "Epoch: [4/10], Step: [1301/3125], Validation Acc: 52.7\n",
      "Epoch: [4/10], Step: [1401/3125], Validation Acc: 51.3\n",
      "Epoch: [4/10], Step: [1501/3125], Validation Acc: 52.0\n",
      "Epoch: [4/10], Step: [1601/3125], Validation Acc: 51.2\n",
      "Epoch: [4/10], Step: [1701/3125], Validation Acc: 53.7\n",
      "Epoch: [4/10], Step: [1801/3125], Validation Acc: 52.4\n",
      "Epoch: [4/10], Step: [1901/3125], Validation Acc: 52.3\n",
      "Epoch: [4/10], Step: [2001/3125], Validation Acc: 52.3\n",
      "Epoch: [4/10], Step: [2101/3125], Validation Acc: 53.5\n",
      "Epoch: [4/10], Step: [2201/3125], Validation Acc: 53.1\n",
      "Epoch: [4/10], Step: [2301/3125], Validation Acc: 54.0\n",
      "Epoch: [4/10], Step: [2401/3125], Validation Acc: 52.4\n",
      "Epoch: [4/10], Step: [2501/3125], Validation Acc: 53.1\n",
      "Epoch: [4/10], Step: [2601/3125], Validation Acc: 52.0\n",
      "Epoch: [4/10], Step: [2701/3125], Validation Acc: 52.0\n",
      "Epoch: [4/10], Step: [2801/3125], Validation Acc: 53.0\n",
      "Epoch: [4/10], Step: [2901/3125], Validation Acc: 53.9\n",
      "Epoch: [4/10], Step: [3001/3125], Validation Acc: 51.7\n",
      "Epoch: [4/10], Step: [3101/3125], Validation Acc: 52.5\n",
      "Epoch: [5/10], Step: [101/3125], Validation Acc: 52.6\n",
      "Epoch: [5/10], Step: [201/3125], Validation Acc: 51.3\n",
      "Epoch: [5/10], Step: [301/3125], Validation Acc: 52.3\n",
      "Epoch: [5/10], Step: [401/3125], Validation Acc: 52.9\n",
      "Epoch: [5/10], Step: [501/3125], Validation Acc: 53.2\n",
      "Epoch: [5/10], Step: [601/3125], Validation Acc: 52.5\n",
      "Epoch: [5/10], Step: [701/3125], Validation Acc: 53.0\n",
      "Epoch: [5/10], Step: [801/3125], Validation Acc: 50.7\n",
      "Epoch: [5/10], Step: [901/3125], Validation Acc: 52.9\n",
      "Epoch: [5/10], Step: [1001/3125], Validation Acc: 52.9\n",
      "Epoch: [5/10], Step: [1101/3125], Validation Acc: 53.4\n",
      "Epoch: [5/10], Step: [1201/3125], Validation Acc: 52.4\n",
      "Epoch: [5/10], Step: [1301/3125], Validation Acc: 51.8\n",
      "Epoch: [5/10], Step: [1401/3125], Validation Acc: 53.1\n",
      "Epoch: [5/10], Step: [1501/3125], Validation Acc: 51.4\n",
      "Epoch: [5/10], Step: [1601/3125], Validation Acc: 54.2\n",
      "Epoch: [5/10], Step: [1701/3125], Validation Acc: 53.8\n",
      "Epoch: [5/10], Step: [1801/3125], Validation Acc: 53.2\n",
      "Epoch: [5/10], Step: [1901/3125], Validation Acc: 53.6\n",
      "Epoch: [5/10], Step: [2001/3125], Validation Acc: 54.3\n",
      "Epoch: [5/10], Step: [2101/3125], Validation Acc: 52.7\n",
      "Epoch: [5/10], Step: [2201/3125], Validation Acc: 54.3\n",
      "Epoch: [5/10], Step: [2301/3125], Validation Acc: 53.1\n",
      "Epoch: [5/10], Step: [2401/3125], Validation Acc: 53.3\n",
      "Epoch: [5/10], Step: [2501/3125], Validation Acc: 52.6\n"
     ]
    },
    {
     "name": "stdout",
     "output_type": "stream",
     "text": [
      "Epoch: [5/10], Step: [2601/3125], Validation Acc: 55.9\n",
      "Epoch: [5/10], Step: [2701/3125], Validation Acc: 53.9\n",
      "Epoch: [5/10], Step: [2801/3125], Validation Acc: 54.1\n",
      "Epoch: [5/10], Step: [2901/3125], Validation Acc: 53.4\n",
      "Epoch: [5/10], Step: [3001/3125], Validation Acc: 53.7\n",
      "Epoch: [5/10], Step: [3101/3125], Validation Acc: 51.6\n",
      "Epoch: [6/10], Step: [101/3125], Validation Acc: 53.9\n",
      "Epoch: [6/10], Step: [201/3125], Validation Acc: 52.8\n",
      "Epoch: [6/10], Step: [301/3125], Validation Acc: 53.1\n",
      "Epoch: [6/10], Step: [401/3125], Validation Acc: 54.4\n",
      "Epoch: [6/10], Step: [501/3125], Validation Acc: 54.6\n",
      "Epoch: [6/10], Step: [601/3125], Validation Acc: 54.5\n",
      "Epoch: [6/10], Step: [701/3125], Validation Acc: 52.4\n",
      "Epoch: [6/10], Step: [801/3125], Validation Acc: 53.4\n",
      "Epoch: [6/10], Step: [901/3125], Validation Acc: 53.3\n",
      "Epoch: [6/10], Step: [1001/3125], Validation Acc: 54.6\n",
      "Epoch: [6/10], Step: [1101/3125], Validation Acc: 55.0\n",
      "Epoch: [6/10], Step: [1201/3125], Validation Acc: 55.0\n",
      "Epoch: [6/10], Step: [1301/3125], Validation Acc: 54.7\n",
      "Epoch: [6/10], Step: [1401/3125], Validation Acc: 53.9\n",
      "Epoch: [6/10], Step: [1501/3125], Validation Acc: 52.3\n",
      "Epoch: [6/10], Step: [1601/3125], Validation Acc: 54.5\n",
      "Epoch: [6/10], Step: [1701/3125], Validation Acc: 52.6\n",
      "Epoch: [6/10], Step: [1801/3125], Validation Acc: 54.0\n",
      "Epoch: [6/10], Step: [1901/3125], Validation Acc: 53.0\n",
      "Epoch: [6/10], Step: [2001/3125], Validation Acc: 52.8\n",
      "Epoch: [6/10], Step: [2101/3125], Validation Acc: 52.7\n",
      "Epoch: [6/10], Step: [2201/3125], Validation Acc: 55.2\n",
      "Epoch: [6/10], Step: [2301/3125], Validation Acc: 55.5\n",
      "Epoch: [6/10], Step: [2401/3125], Validation Acc: 51.9\n",
      "Epoch: [6/10], Step: [2501/3125], Validation Acc: 51.9\n",
      "Epoch: [6/10], Step: [2601/3125], Validation Acc: 52.5\n",
      "Epoch: [6/10], Step: [2701/3125], Validation Acc: 53.8\n",
      "Epoch: [6/10], Step: [2801/3125], Validation Acc: 53.2\n",
      "Epoch: [6/10], Step: [2901/3125], Validation Acc: 54.2\n",
      "Epoch: [6/10], Step: [3001/3125], Validation Acc: 53.4\n",
      "Epoch: [6/10], Step: [3101/3125], Validation Acc: 54.0\n",
      "Epoch: [7/10], Step: [101/3125], Validation Acc: 55.5\n",
      "Epoch: [7/10], Step: [201/3125], Validation Acc: 53.6\n",
      "Epoch: [7/10], Step: [301/3125], Validation Acc: 52.3\n",
      "Epoch: [7/10], Step: [401/3125], Validation Acc: 54.2\n",
      "Epoch: [7/10], Step: [501/3125], Validation Acc: 53.0\n",
      "Epoch: [7/10], Step: [601/3125], Validation Acc: 52.9\n",
      "Epoch: [7/10], Step: [701/3125], Validation Acc: 52.9\n",
      "Epoch: [7/10], Step: [801/3125], Validation Acc: 54.0\n",
      "Epoch: [7/10], Step: [901/3125], Validation Acc: 53.0\n",
      "Epoch: [7/10], Step: [1001/3125], Validation Acc: 51.9\n",
      "Epoch: [7/10], Step: [1101/3125], Validation Acc: 52.5\n",
      "Epoch: [7/10], Step: [1201/3125], Validation Acc: 53.2\n",
      "Epoch: [7/10], Step: [1301/3125], Validation Acc: 51.6\n",
      "Epoch: [7/10], Step: [1401/3125], Validation Acc: 54.2\n",
      "Epoch: [7/10], Step: [1501/3125], Validation Acc: 52.8\n",
      "Epoch: [7/10], Step: [1601/3125], Validation Acc: 54.2\n",
      "Epoch: [7/10], Step: [1701/3125], Validation Acc: 53.4\n",
      "Epoch: [7/10], Step: [1801/3125], Validation Acc: 53.6\n",
      "Epoch: [7/10], Step: [1901/3125], Validation Acc: 53.4\n",
      "Epoch: [7/10], Step: [2001/3125], Validation Acc: 53.1\n",
      "Epoch: [7/10], Step: [2101/3125], Validation Acc: 53.4\n",
      "Epoch: [7/10], Step: [2201/3125], Validation Acc: 53.6\n",
      "Epoch: [7/10], Step: [2301/3125], Validation Acc: 55.2\n",
      "Epoch: [7/10], Step: [2401/3125], Validation Acc: 53.8\n",
      "Epoch: [7/10], Step: [2501/3125], Validation Acc: 54.6\n",
      "Epoch: [7/10], Step: [2601/3125], Validation Acc: 52.0\n",
      "Epoch: [7/10], Step: [2701/3125], Validation Acc: 54.6\n",
      "Epoch: [7/10], Step: [2801/3125], Validation Acc: 52.4\n",
      "Epoch: [7/10], Step: [2901/3125], Validation Acc: 51.6\n",
      "Epoch: [7/10], Step: [3001/3125], Validation Acc: 53.6\n",
      "Epoch: [7/10], Step: [3101/3125], Validation Acc: 54.1\n",
      "Epoch: [8/10], Step: [101/3125], Validation Acc: 53.2\n",
      "Epoch: [8/10], Step: [201/3125], Validation Acc: 51.6\n",
      "Epoch: [8/10], Step: [301/3125], Validation Acc: 53.0\n",
      "Epoch: [8/10], Step: [401/3125], Validation Acc: 55.0\n",
      "Epoch: [8/10], Step: [501/3125], Validation Acc: 53.1\n",
      "Epoch: [8/10], Step: [601/3125], Validation Acc: 53.9\n",
      "Epoch: [8/10], Step: [701/3125], Validation Acc: 53.4\n",
      "Epoch: [8/10], Step: [801/3125], Validation Acc: 53.6\n",
      "Epoch: [8/10], Step: [901/3125], Validation Acc: 52.7\n",
      "Epoch: [8/10], Step: [1001/3125], Validation Acc: 52.7\n",
      "Epoch: [8/10], Step: [1101/3125], Validation Acc: 52.1\n",
      "Epoch: [8/10], Step: [1201/3125], Validation Acc: 50.6\n",
      "Epoch: [8/10], Step: [1301/3125], Validation Acc: 50.6\n",
      "Epoch: [8/10], Step: [1401/3125], Validation Acc: 52.9\n",
      "Epoch: [8/10], Step: [1501/3125], Validation Acc: 53.2\n",
      "Epoch: [8/10], Step: [1601/3125], Validation Acc: 53.7\n",
      "Epoch: [8/10], Step: [1701/3125], Validation Acc: 53.8\n",
      "Epoch: [8/10], Step: [1801/3125], Validation Acc: 54.0\n",
      "Epoch: [8/10], Step: [1901/3125], Validation Acc: 54.1\n",
      "Epoch: [8/10], Step: [2001/3125], Validation Acc: 53.5\n",
      "Epoch: [8/10], Step: [2101/3125], Validation Acc: 52.6\n",
      "Epoch: [8/10], Step: [2201/3125], Validation Acc: 52.4\n",
      "Epoch: [8/10], Step: [2301/3125], Validation Acc: 53.4\n",
      "Epoch: [8/10], Step: [2401/3125], Validation Acc: 53.1\n",
      "Epoch: [8/10], Step: [2501/3125], Validation Acc: 51.8\n",
      "Epoch: [8/10], Step: [2601/3125], Validation Acc: 54.4\n",
      "Epoch: [8/10], Step: [2701/3125], Validation Acc: 53.7\n",
      "Epoch: [8/10], Step: [2801/3125], Validation Acc: 51.2\n",
      "Epoch: [8/10], Step: [2901/3125], Validation Acc: 52.9\n",
      "Epoch: [8/10], Step: [3001/3125], Validation Acc: 53.2\n",
      "Epoch: [8/10], Step: [3101/3125], Validation Acc: 53.1\n",
      "Epoch: [9/10], Step: [101/3125], Validation Acc: 53.0\n",
      "Epoch: [9/10], Step: [201/3125], Validation Acc: 52.5\n",
      "Epoch: [9/10], Step: [301/3125], Validation Acc: 53.1\n",
      "Epoch: [9/10], Step: [401/3125], Validation Acc: 52.3\n",
      "Epoch: [9/10], Step: [501/3125], Validation Acc: 53.9\n",
      "Epoch: [9/10], Step: [601/3125], Validation Acc: 53.0\n",
      "Epoch: [9/10], Step: [701/3125], Validation Acc: 54.1\n",
      "Epoch: [9/10], Step: [801/3125], Validation Acc: 53.8\n",
      "Epoch: [9/10], Step: [901/3125], Validation Acc: 54.1\n",
      "Epoch: [9/10], Step: [1001/3125], Validation Acc: 53.7\n",
      "Epoch: [9/10], Step: [1101/3125], Validation Acc: 53.3\n",
      "Epoch: [9/10], Step: [1201/3125], Validation Acc: 53.8\n",
      "Epoch: [9/10], Step: [1301/3125], Validation Acc: 51.7\n",
      "Epoch: [9/10], Step: [1401/3125], Validation Acc: 53.5\n",
      "Epoch: [9/10], Step: [1501/3125], Validation Acc: 54.2\n",
      "Epoch: [9/10], Step: [1601/3125], Validation Acc: 51.4\n",
      "Epoch: [9/10], Step: [1701/3125], Validation Acc: 53.8\n",
      "Epoch: [9/10], Step: [1801/3125], Validation Acc: 53.2\n",
      "Epoch: [9/10], Step: [1901/3125], Validation Acc: 53.6\n",
      "Epoch: [9/10], Step: [2001/3125], Validation Acc: 52.0\n",
      "Epoch: [9/10], Step: [2101/3125], Validation Acc: 53.1\n",
      "Epoch: [9/10], Step: [2201/3125], Validation Acc: 53.5\n",
      "Epoch: [9/10], Step: [2301/3125], Validation Acc: 53.3\n",
      "Epoch: [9/10], Step: [2401/3125], Validation Acc: 54.7\n",
      "Epoch: [9/10], Step: [2501/3125], Validation Acc: 55.1\n",
      "Epoch: [9/10], Step: [2601/3125], Validation Acc: 55.7\n",
      "Epoch: [9/10], Step: [2701/3125], Validation Acc: 52.8\n",
      "Epoch: [9/10], Step: [2801/3125], Validation Acc: 54.3\n",
      "Epoch: [9/10], Step: [2901/3125], Validation Acc: 54.0\n",
      "Epoch: [9/10], Step: [3001/3125], Validation Acc: 53.2\n",
      "Epoch: [9/10], Step: [3101/3125], Validation Acc: 55.4\n",
      "Epoch: [10/10], Step: [101/3125], Validation Acc: 52.6\n",
      "Epoch: [10/10], Step: [201/3125], Validation Acc: 53.1\n",
      "Epoch: [10/10], Step: [301/3125], Validation Acc: 53.5\n",
      "Epoch: [10/10], Step: [401/3125], Validation Acc: 53.3\n",
      "Epoch: [10/10], Step: [501/3125], Validation Acc: 53.4\n",
      "Epoch: [10/10], Step: [601/3125], Validation Acc: 53.8\n",
      "Epoch: [10/10], Step: [701/3125], Validation Acc: 54.0\n",
      "Epoch: [10/10], Step: [801/3125], Validation Acc: 52.0\n",
      "Epoch: [10/10], Step: [901/3125], Validation Acc: 53.5\n",
      "Epoch: [10/10], Step: [1001/3125], Validation Acc: 55.6\n",
      "Epoch: [10/10], Step: [1101/3125], Validation Acc: 51.2\n",
      "Epoch: [10/10], Step: [1201/3125], Validation Acc: 53.2\n",
      "Epoch: [10/10], Step: [1301/3125], Validation Acc: 53.7\n",
      "Epoch: [10/10], Step: [1401/3125], Validation Acc: 53.0\n",
      "Epoch: [10/10], Step: [1501/3125], Validation Acc: 52.5\n",
      "Epoch: [10/10], Step: [1601/3125], Validation Acc: 54.9\n",
      "Epoch: [10/10], Step: [1701/3125], Validation Acc: 54.0\n",
      "Epoch: [10/10], Step: [1801/3125], Validation Acc: 54.4\n",
      "Epoch: [10/10], Step: [1901/3125], Validation Acc: 55.0\n"
     ]
    },
    {
     "name": "stdout",
     "output_type": "stream",
     "text": [
      "Epoch: [10/10], Step: [2001/3125], Validation Acc: 54.3\n",
      "Epoch: [10/10], Step: [2101/3125], Validation Acc: 53.9\n",
      "Epoch: [10/10], Step: [2201/3125], Validation Acc: 53.9\n",
      "Epoch: [10/10], Step: [2301/3125], Validation Acc: 52.8\n",
      "Epoch: [10/10], Step: [2401/3125], Validation Acc: 54.2\n",
      "Epoch: [10/10], Step: [2501/3125], Validation Acc: 54.7\n",
      "Epoch: [10/10], Step: [2601/3125], Validation Acc: 55.5\n",
      "Epoch: [10/10], Step: [2701/3125], Validation Acc: 53.9\n",
      "Epoch: [10/10], Step: [2801/3125], Validation Acc: 54.2\n",
      "Epoch: [10/10], Step: [2901/3125], Validation Acc: 54.6\n",
      "Epoch: [10/10], Step: [3001/3125], Validation Acc: 53.4\n",
      "Epoch: [10/10], Step: [3101/3125], Validation Acc: 52.2\n"
     ]
    }
   ],
   "source": [
    "#this will run but not really work because we have not combined sent1, sent2 representations\n",
    "\n",
    "num_epochs = 10 # number epoch to train\n",
    "\n",
    "# Function for testing the model\n",
    "def test_model(loader, model):\n",
    "    \"\"\"\n",
    "    Help function that tests the model's performance on a dataset\n",
    "    @param: loader - data loader for the dataset to test against\n",
    "    \"\"\"\n",
    "    correct = 0\n",
    "    total = 0\n",
    "    model.eval()\n",
    "    for data1, data2, lengths1, lengths2, labels in loader:\n",
    "        data_batch1, data_batch2, length_batch1, length_batch2, label_batch = data1, data2, lengths1, lengths2, labels\n",
    "        outputs = F.softmax(model(data_batch1, data_batch2, length_batch1, length_batch2), dim=1)\n",
    "        predicted = outputs.max(1, keepdim=True)[1]\n",
    "        \n",
    "        total += labels.size(0)\n",
    "        correct += predicted.eq(labels.view_as(predicted)).sum().item()\n",
    "    return (100 * correct / total)\n",
    "\n",
    "for epoch in range(num_epochs):\n",
    "    for i, (data1, data2, lengths1, lengths2, labels) in enumerate(train_loader):\n",
    "        model.train()\n",
    "        data_batch1, data_batch2, length_batch1, length_batch2, label_batch = data1, data2, lengths1, lengths2, labels\n",
    "        optimizer.zero_grad()\n",
    "        outputs = model(data_batch1, data_batch2, length_batch1, length_batch2)\n",
    "        loss = criterion(outputs, label_batch)\n",
    "        loss.backward()\n",
    "        optimizer.step()\n",
    "        # validate every 100 iterations\n",
    "        if i > 0 and i % 100 == 0:\n",
    "            # validate\n",
    "            val_acc = test_model(val_loader, model)\n",
    "            print('Epoch: [{}/{}], Step: [{}/{}], Validation Acc: {}'.format( \n",
    "                epoch+1, num_epochs, i+1, len(train_loader), val_acc))\n"
   ]
  },
  {
   "cell_type": "code",
   "execution_count": null,
   "metadata": {},
   "outputs": [],
   "source": []
  }
 ],
 "metadata": {
  "kernelspec": {
   "display_name": "Python 3",
   "language": "python",
   "name": "python3"
  },
  "language_info": {
   "codemirror_mode": {
    "name": "ipython",
    "version": 3
   },
   "file_extension": ".py",
   "mimetype": "text/x-python",
   "name": "python",
   "nbconvert_exporter": "python",
   "pygments_lexer": "ipython3",
   "version": "3.7.3"
  }
 },
 "nbformat": 4,
 "nbformat_minor": 4
}
